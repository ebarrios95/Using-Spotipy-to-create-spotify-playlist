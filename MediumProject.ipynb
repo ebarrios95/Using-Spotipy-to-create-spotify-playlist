{
 "cells": [
  {
   "cell_type": "code",
   "execution_count": 1670,
   "id": "fcf29273",
   "metadata": {},
   "outputs": [],
   "source": [
    "import spotipy \n",
    "import spotipy.util as util \n",
    "import os \n",
    "import pandas as pd"
   ]
  },
  {
   "cell_type": "code",
   "execution_count": 1671,
   "id": "f5190721",
   "metadata": {},
   "outputs": [],
   "source": [
    "username = os.environ.get('SPOTIFY_USERNAME')\n",
    "Id = os.environ.get('SPOTIFY_CLIENT_ID')\n",
    "secret = os.environ.get('SPOTIFY_CLIENT_SECRET')"
   ]
  },
  {
   "cell_type": "code",
   "execution_count": 1672,
   "id": "0cc26f00",
   "metadata": {},
   "outputs": [],
   "source": [
    "redirect_uri = 'https://unheard-login.com/callback/'"
   ]
  },
  {
   "cell_type": "code",
   "execution_count": 1673,
   "id": "ae0c6cdf",
   "metadata": {},
   "outputs": [],
   "source": [
    "#initialize Spotify API token \n",
    "#NOTE: assumes you have loaded Spotify credentials into user_config dict \n",
    "\n",
    "token = util.prompt_for_user_token(username=username,\n",
    "                                   scope='playlist-modify-private', \n",
    "                                   client_id=Id, \n",
    "                                   client_secret=secret, \n",
    "                                   redirect_uri=redirect_uri)\n",
    "sp = spotipy.Spotify(auth=token)\n",
    "\n"
   ]
  },
  {
   "cell_type": "code",
   "execution_count": 1676,
   "id": "c149e8a4",
   "metadata": {},
   "outputs": [],
   "source": [
    "playlist_uri = 'spotify:playlist:6qd48xm5P7JXCxSdIQe4Ur'"
   ]
  },
  {
   "cell_type": "code",
   "execution_count": 1677,
   "id": "e1fa2881",
   "metadata": {},
   "outputs": [],
   "source": [
    "# A function to extract track names and URIs from a playlist\n",
    "def get_playlist_info(username, playlist_uri):\n",
    "    # initialize vars\n",
    "    offset = 0\n",
    "    tracks, uris, names, artists = [], [], [], []\n",
    "\n",
    "    # get playlist id and name from URI\n",
    "    playlist_id = playlist_uri.split(':')[2]\n",
    "    playlist_name = sp.user_playlist(username, playlist_id)['name']\n",
    "\n",
    "    # get all tracks in given playlist (max limit is 100 at a time --> use offset)\n",
    "    while True:\n",
    "        results = sp.user_playlist_tracks(username, playlist_id, offset=offset)\n",
    "        tracks += results['items']\n",
    "        if results['next'] is not None:\n",
    "            offset += 100\n",
    "        else:\n",
    "            break\n",
    "        \n",
    "    # get track metadata\n",
    "    for track in tracks:\n",
    "        names.append(track['track']['name'])\n",
    "        artists.append(track['track']['artists'][0]['name'])\n",
    "        uris.append(track['track']['uri'])\n",
    "    \n",
    "    return playlist_name, names, artists, uris"
   ]
  },
  {
   "cell_type": "code",
   "execution_count": 1678,
   "id": "da9595a5",
   "metadata": {},
   "outputs": [],
   "source": [
    "# Extract features from each track in a playlist\n",
    "def get_features_for_playlist(df, username, uri):\n",
    "  \n",
    "    # get all track metadata from given playlist\n",
    "    playlist_name, names, artists, uris = get_playlist_info(username, uri)\n",
    "    \n",
    "    # iterate through each track to get audio features and save data into dataframe\n",
    "    for name, artist, track_uri in zip(names, artists, uris):\n",
    "        # print(json.dumps(track_uri, indent=4))              \n",
    "        # ^ DEBUG STATEMENT ^\n",
    "        \n",
    "        # access audio features for given track URI via spotipy \n",
    "        audio_features = sp.audio_features(track_uri)\n",
    "\n",
    "        # get relevant audio features\n",
    "        feature_subset = [audio_features[0][col] for col in df.columns if col not in [\"name\", \"artist\", \"track_URI\", \"playlist\"]]\n",
    "\n",
    "        # compose a row of the dataframe by flattening the list of audio features\n",
    "        row = [name, artist, track_uri, *feature_subset, playlist_name]\n",
    "        df.loc[len(df.index)] = row\n",
    "    return df"
   ]
  },
  {
   "cell_type": "code",
   "execution_count": 1581,
   "id": "d3d8621d",
   "metadata": {},
   "outputs": [],
   "source": [
    "a,b,c,d = get_playlist_info(username, playlist_uri)"
   ]
  },
  {
   "cell_type": "code",
   "execution_count": 1625,
   "id": "9b04a015",
   "metadata": {},
   "outputs": [],
   "source": [
    "df = pd.DataFrame(columns=['name', 'artist', 'track_URI', 'acousticness', 'danceability', 'energy', 'instrumentalness', 'liveness', 'loudness', 'speechiness', 'tempo', 'valence', 'playlist'])"
   ]
  },
  {
   "cell_type": "code",
   "execution_count": 1626,
   "id": "d7af2fe8",
   "metadata": {},
   "outputs": [],
   "source": [
    "df = get_features_for_playlist(df, username, playlist_uri)"
   ]
  },
  {
   "cell_type": "code",
   "execution_count": 1627,
   "id": "fb159a9e",
   "metadata": {
    "scrolled": true
   },
   "outputs": [
    {
     "data": {
      "text/html": [
       "<div>\n",
       "<style scoped>\n",
       "    .dataframe tbody tr th:only-of-type {\n",
       "        vertical-align: middle;\n",
       "    }\n",
       "\n",
       "    .dataframe tbody tr th {\n",
       "        vertical-align: top;\n",
       "    }\n",
       "\n",
       "    .dataframe thead th {\n",
       "        text-align: right;\n",
       "    }\n",
       "</style>\n",
       "<table border=\"1\" class=\"dataframe\">\n",
       "  <thead>\n",
       "    <tr style=\"text-align: right;\">\n",
       "      <th></th>\n",
       "      <th>name</th>\n",
       "      <th>artist</th>\n",
       "      <th>track_URI</th>\n",
       "      <th>acousticness</th>\n",
       "      <th>danceability</th>\n",
       "      <th>energy</th>\n",
       "      <th>instrumentalness</th>\n",
       "      <th>liveness</th>\n",
       "      <th>loudness</th>\n",
       "      <th>speechiness</th>\n",
       "      <th>tempo</th>\n",
       "      <th>valence</th>\n",
       "      <th>playlist</th>\n",
       "    </tr>\n",
       "  </thead>\n",
       "  <tbody>\n",
       "    <tr>\n",
       "      <th>0</th>\n",
       "      <td>An Encounter</td>\n",
       "      <td>The 1975</td>\n",
       "      <td>spotify:track:3Uuf7UQy96o8rkyEXSmAmv</td>\n",
       "      <td>0.8900</td>\n",
       "      <td>0.387</td>\n",
       "      <td>0.438</td>\n",
       "      <td>0.983000</td>\n",
       "      <td>0.0880</td>\n",
       "      <td>-16.424</td>\n",
       "      <td>0.0408</td>\n",
       "      <td>99.240</td>\n",
       "      <td>0.0567</td>\n",
       "      <td>New Playlist</td>\n",
       "    </tr>\n",
       "    <tr>\n",
       "      <th>1</th>\n",
       "      <td>TOOTIMETOOTIMETOOTIME</td>\n",
       "      <td>The 1975</td>\n",
       "      <td>spotify:track:33DzKnwuBE6lfOiADwzd5E</td>\n",
       "      <td>0.1770</td>\n",
       "      <td>0.667</td>\n",
       "      <td>0.824</td>\n",
       "      <td>0.015200</td>\n",
       "      <td>0.0933</td>\n",
       "      <td>-5.867</td>\n",
       "      <td>0.0665</td>\n",
       "      <td>114.998</td>\n",
       "      <td>0.5180</td>\n",
       "      <td>New Playlist</td>\n",
       "    </tr>\n",
       "    <tr>\n",
       "      <th>2</th>\n",
       "      <td>Runaround Sue</td>\n",
       "      <td>Dion</td>\n",
       "      <td>spotify:track:1DndHckdH9m5rp6gYP086b</td>\n",
       "      <td>0.4510</td>\n",
       "      <td>0.364</td>\n",
       "      <td>0.607</td>\n",
       "      <td>0.000000</td>\n",
       "      <td>0.2510</td>\n",
       "      <td>-9.791</td>\n",
       "      <td>0.1250</td>\n",
       "      <td>79.987</td>\n",
       "      <td>0.5980</td>\n",
       "      <td>New Playlist</td>\n",
       "    </tr>\n",
       "    <tr>\n",
       "      <th>3</th>\n",
       "      <td>What's My Age Again?</td>\n",
       "      <td>blink-182</td>\n",
       "      <td>spotify:track:4LJhJ6DQS7NwE7UKtvcM52</td>\n",
       "      <td>0.0126</td>\n",
       "      <td>0.391</td>\n",
       "      <td>0.951</td>\n",
       "      <td>0.000378</td>\n",
       "      <td>0.0878</td>\n",
       "      <td>-7.419</td>\n",
       "      <td>0.0692</td>\n",
       "      <td>157.660</td>\n",
       "      <td>0.4680</td>\n",
       "      <td>New Playlist</td>\n",
       "    </tr>\n",
       "    <tr>\n",
       "      <th>4</th>\n",
       "      <td>The Wanderer</td>\n",
       "      <td>Dion</td>\n",
       "      <td>spotify:track:3v8d3ku3kiTZVPxEt7a2dE</td>\n",
       "      <td>0.3010</td>\n",
       "      <td>0.590</td>\n",
       "      <td>0.546</td>\n",
       "      <td>0.000000</td>\n",
       "      <td>0.0936</td>\n",
       "      <td>-10.213</td>\n",
       "      <td>0.0436</td>\n",
       "      <td>114.040</td>\n",
       "      <td>0.8550</td>\n",
       "      <td>New Playlist</td>\n",
       "    </tr>\n",
       "  </tbody>\n",
       "</table>\n",
       "</div>"
      ],
      "text/plain": [
       "                    name     artist                             track_URI  \\\n",
       "0           An Encounter   The 1975  spotify:track:3Uuf7UQy96o8rkyEXSmAmv   \n",
       "1  TOOTIMETOOTIMETOOTIME   The 1975  spotify:track:33DzKnwuBE6lfOiADwzd5E   \n",
       "2          Runaround Sue       Dion  spotify:track:1DndHckdH9m5rp6gYP086b   \n",
       "3   What's My Age Again?  blink-182  spotify:track:4LJhJ6DQS7NwE7UKtvcM52   \n",
       "4           The Wanderer       Dion  spotify:track:3v8d3ku3kiTZVPxEt7a2dE   \n",
       "\n",
       "   acousticness  danceability  energy  instrumentalness  liveness  loudness  \\\n",
       "0        0.8900         0.387   0.438          0.983000    0.0880   -16.424   \n",
       "1        0.1770         0.667   0.824          0.015200    0.0933    -5.867   \n",
       "2        0.4510         0.364   0.607          0.000000    0.2510    -9.791   \n",
       "3        0.0126         0.391   0.951          0.000378    0.0878    -7.419   \n",
       "4        0.3010         0.590   0.546          0.000000    0.0936   -10.213   \n",
       "\n",
       "   speechiness    tempo  valence      playlist  \n",
       "0       0.0408   99.240   0.0567  New Playlist  \n",
       "1       0.0665  114.998   0.5180  New Playlist  \n",
       "2       0.1250   79.987   0.5980  New Playlist  \n",
       "3       0.0692  157.660   0.4680  New Playlist  \n",
       "4       0.0436  114.040   0.8550  New Playlist  "
      ]
     },
     "execution_count": 1627,
     "metadata": {},
     "output_type": "execute_result"
    }
   ],
   "source": [
    "df.head()"
   ]
  },
  {
   "cell_type": "markdown",
   "id": "375da1d0",
   "metadata": {},
   "source": [
    "# Applying Principal Component Analysis(PCA)"
   ]
  },
  {
   "cell_type": "code",
   "execution_count": 1586,
   "id": "a5921987",
   "metadata": {},
   "outputs": [
    {
     "data": {
      "text/html": [
       "<div>\n",
       "<style scoped>\n",
       "    .dataframe tbody tr th:only-of-type {\n",
       "        vertical-align: middle;\n",
       "    }\n",
       "\n",
       "    .dataframe tbody tr th {\n",
       "        vertical-align: top;\n",
       "    }\n",
       "\n",
       "    .dataframe thead th {\n",
       "        text-align: right;\n",
       "    }\n",
       "</style>\n",
       "<table border=\"1\" class=\"dataframe\">\n",
       "  <thead>\n",
       "    <tr style=\"text-align: right;\">\n",
       "      <th></th>\n",
       "      <th>acousticness</th>\n",
       "      <th>danceability</th>\n",
       "      <th>energy</th>\n",
       "      <th>instrumentalness</th>\n",
       "      <th>liveness</th>\n",
       "      <th>loudness</th>\n",
       "      <th>speechiness</th>\n",
       "      <th>tempo</th>\n",
       "      <th>valence</th>\n",
       "    </tr>\n",
       "  </thead>\n",
       "  <tbody>\n",
       "    <tr>\n",
       "      <th>0</th>\n",
       "      <td>0.8900</td>\n",
       "      <td>0.387</td>\n",
       "      <td>0.438</td>\n",
       "      <td>0.983000</td>\n",
       "      <td>0.0880</td>\n",
       "      <td>-16.424</td>\n",
       "      <td>0.0408</td>\n",
       "      <td>99.240</td>\n",
       "      <td>0.0567</td>\n",
       "    </tr>\n",
       "    <tr>\n",
       "      <th>1</th>\n",
       "      <td>0.1770</td>\n",
       "      <td>0.667</td>\n",
       "      <td>0.824</td>\n",
       "      <td>0.015200</td>\n",
       "      <td>0.0933</td>\n",
       "      <td>-5.867</td>\n",
       "      <td>0.0665</td>\n",
       "      <td>114.998</td>\n",
       "      <td>0.5180</td>\n",
       "    </tr>\n",
       "    <tr>\n",
       "      <th>2</th>\n",
       "      <td>0.4510</td>\n",
       "      <td>0.364</td>\n",
       "      <td>0.607</td>\n",
       "      <td>0.000000</td>\n",
       "      <td>0.2510</td>\n",
       "      <td>-9.791</td>\n",
       "      <td>0.1250</td>\n",
       "      <td>79.987</td>\n",
       "      <td>0.5980</td>\n",
       "    </tr>\n",
       "    <tr>\n",
       "      <th>3</th>\n",
       "      <td>0.0126</td>\n",
       "      <td>0.391</td>\n",
       "      <td>0.951</td>\n",
       "      <td>0.000378</td>\n",
       "      <td>0.0878</td>\n",
       "      <td>-7.419</td>\n",
       "      <td>0.0692</td>\n",
       "      <td>157.660</td>\n",
       "      <td>0.4680</td>\n",
       "    </tr>\n",
       "    <tr>\n",
       "      <th>4</th>\n",
       "      <td>0.3010</td>\n",
       "      <td>0.590</td>\n",
       "      <td>0.546</td>\n",
       "      <td>0.000000</td>\n",
       "      <td>0.0936</td>\n",
       "      <td>-10.213</td>\n",
       "      <td>0.0436</td>\n",
       "      <td>114.040</td>\n",
       "      <td>0.8550</td>\n",
       "    </tr>\n",
       "  </tbody>\n",
       "</table>\n",
       "</div>"
      ],
      "text/plain": [
       "   acousticness  danceability  energy  instrumentalness  liveness  loudness  \\\n",
       "0        0.8900         0.387   0.438          0.983000    0.0880   -16.424   \n",
       "1        0.1770         0.667   0.824          0.015200    0.0933    -5.867   \n",
       "2        0.4510         0.364   0.607          0.000000    0.2510    -9.791   \n",
       "3        0.0126         0.391   0.951          0.000378    0.0878    -7.419   \n",
       "4        0.3010         0.590   0.546          0.000000    0.0936   -10.213   \n",
       "\n",
       "   speechiness    tempo  valence  \n",
       "0       0.0408   99.240   0.0567  \n",
       "1       0.0665  114.998   0.5180  \n",
       "2       0.1250   79.987   0.5980  \n",
       "3       0.0692  157.660   0.4680  \n",
       "4       0.0436  114.040   0.8550  "
      ]
     },
     "execution_count": 1586,
     "metadata": {},
     "output_type": "execute_result"
    }
   ],
   "source": [
    "#Manuel Feature Extraction that provides little value \n",
    "non_features = ['name', 'artist', 'track_URI', 'playlist']\n",
    "track_info = df[non_features]\n",
    "df_X = df.drop(columns=non_features)\n",
    "df_X.head()"
   ]
  },
  {
   "cell_type": "code",
   "execution_count": 1587,
   "id": "3b672128",
   "metadata": {},
   "outputs": [],
   "source": [
    "from sklearn.preprocessing import StandardScaler \n",
    "scaler = StandardScaler()"
   ]
  },
  {
   "cell_type": "code",
   "execution_count": 1588,
   "id": "f996caf4",
   "metadata": {},
   "outputs": [],
   "source": [
    "x_std = scaler.fit_transform(df_X)"
   ]
  },
  {
   "cell_type": "code",
   "execution_count": 1589,
   "id": "b98368ef",
   "metadata": {},
   "outputs": [
    {
     "data": {
      "text/plain": [
       "PCA()"
      ]
     },
     "execution_count": 1589,
     "metadata": {},
     "output_type": "execute_result"
    }
   ],
   "source": [
    "from sklearn.decomposition import PCA \n",
    "pca = PCA()\n",
    "pca.fit(x_std)"
   ]
  },
  {
   "cell_type": "code",
   "execution_count": 1590,
   "id": "adb69f7f",
   "metadata": {},
   "outputs": [
    {
     "data": {
      "text/plain": [
       "array([0.34896881, 0.16425152, 0.11889105, 0.09435694, 0.09182379,\n",
       "       0.07847563, 0.04981466, 0.03714201, 0.01627558])"
      ]
     },
     "execution_count": 1590,
     "metadata": {},
     "output_type": "execute_result"
    }
   ],
   "source": [
    "evr = pca.explained_variance_ratio_\n",
    "evr"
   ]
  },
  {
   "cell_type": "code",
   "execution_count": 1591,
   "id": "bc931836",
   "metadata": {},
   "outputs": [
    {
     "name": "stdout",
     "output_type": "stream",
     "text": [
      "[0.34896881 0.51322033 0.63211138 0.72646831 0.81829211 0.89676774\n",
      " 0.94658241 0.98372442 1.        ]\n"
     ]
    }
   ],
   "source": [
    "#Explains: if we keep the minimum of 4 components we will still \n",
    "#able to explain 80% of the data\n",
    "print(pca.explained_variance_ratio_.cumsum())"
   ]
  },
  {
   "cell_type": "code",
   "execution_count": 1592,
   "id": "bec86710",
   "metadata": {},
   "outputs": [
    {
     "data": {
      "image/png": "[encoded data removed]",
      "text/plain": [
       "<Figure size 720x576 with 1 Axes>"
      ]
     },
     "metadata": {
      "needs_background": "light"
     },
     "output_type": "display_data"
    }
   ],
   "source": [
    "import matplotlib.pyplot as plt\n",
    "\n",
    "fig = plt.figure(figsize=(10,8))\n",
    "plt.plot(range(1, len(df_X.columns)+1), evr.cumsum(), marker='o', linestyle='--')\n",
    "plt.xlabel('Number of Components', fontsize=18)\n",
    "plt.ylabel('Cumulative Explained Variance',fontsize=18)\n",
    "plt.xticks(fontsize=16)\n",
    "plt.yticks(fontsize=16)\n",
    "fig = plt.savefig(\"./Visualizations/cumulative_variance_plot.png\")\n",
    "plt.show()"
   ]
  },
  {
   "cell_type": "code",
   "execution_count": 1593,
   "id": "684b8a7f",
   "metadata": {},
   "outputs": [
    {
     "name": "stdout",
     "output_type": "stream",
     "text": [
      "Number of components: 6\n"
     ]
    }
   ],
   "source": [
    "for i, exp_var in enumerate(evr.cumsum()):\n",
    "    if exp_var >= 0.85:\n",
    "        n_comps = i + 1\n",
    "        break\n",
    "print(\"Number of components:\", n_comps)\n",
    "pca = PCA(n_components=n_comps)\n",
    "pca.fit(x_std)\n",
    "scores_pca = pca.transform(x_std)"
   ]
  },
  {
   "cell_type": "markdown",
   "id": "f1ee0efb",
   "metadata": {},
   "source": [
    "# K-Means Clustering \n",
    "Finding the elbow points of WCSS(within cluster sum of squares) curve using the YellowBrick KELblowVisualizer "
   ]
  },
  {
   "cell_type": "code",
   "execution_count": 1594,
   "id": "ae5155be",
   "metadata": {},
   "outputs": [],
   "source": [
    "from sklearn.cluster import KMeans\n",
    "\n",
    "distortions = []\n",
    "\n",
    "max_clusters = 12\n",
    "#populating distortions for various clusters\n",
    "#distoritions?? sum of squared distances of points from cluster centers \n",
    "for i in range(1,max_clusters): \n",
    "    kmeans = KMeans(i, random_state=25)\n",
    "    kmeans.fit(scores_pca)\n",
    "    distortions.append(kmeans.inertia_)"
   ]
  },
  {
   "cell_type": "code",
   "execution_count": 1595,
   "id": "45fb20b1",
   "metadata": {},
   "outputs": [
    {
     "name": "stdout",
     "output_type": "stream",
     "text": [
      "Optimal number of clusters: 5\n"
     ]
    }
   ],
   "source": [
    "from kneed import KneeLocator\n",
    "\n",
    "n_clusters = KneeLocator([i for i in range(1, max_clusters)], distortions, curve='convex', direction='decreasing').knee\n",
    "print(\"Optimal number of clusters:\", n_clusters)"
   ]
  },
  {
   "cell_type": "code",
   "execution_count": 1596,
   "id": "e55e8839",
   "metadata": {},
   "outputs": [
    {
     "data": {
      "image/png": "[encoded data removed]",
      "text/plain": [
       "<Figure size 432x288 with 1 Axes>"
      ]
     },
     "metadata": {
      "needs_background": "light"
     },
     "output_type": "display_data"
    }
   ],
   "source": [
    "import matplotlib.pyplot as plt \n",
    "\n",
    "plt.plot(range(1,12), distortions)\n",
    "plt.xlabel('Number of Clusters')\n",
    "plt.ylabel('Distortions')\n",
    "plt.show()"
   ]
  },
  {
   "cell_type": "code",
   "execution_count": 1597,
   "id": "08c0cb09",
   "metadata": {},
   "outputs": [],
   "source": [
    "kmeans_pca = KMeans(n_clusters = n_clusters, init='k-means++', random_state=25)\n",
    "kmeans_pca.fit(scores_pca)\n",
    "df['Cluster'] = kmeans_pca.labels_"
   ]
  },
  {
   "cell_type": "code",
   "execution_count": 1598,
   "id": "8f960261",
   "metadata": {},
   "outputs": [
    {
     "data": {
      "text/html": [
       "<div>\n",
       "<style scoped>\n",
       "    .dataframe tbody tr th:only-of-type {\n",
       "        vertical-align: middle;\n",
       "    }\n",
       "\n",
       "    .dataframe tbody tr th {\n",
       "        vertical-align: top;\n",
       "    }\n",
       "\n",
       "    .dataframe thead th {\n",
       "        text-align: right;\n",
       "    }\n",
       "</style>\n",
       "<table border=\"1\" class=\"dataframe\">\n",
       "  <thead>\n",
       "    <tr style=\"text-align: right;\">\n",
       "      <th></th>\n",
       "      <th>acousticness</th>\n",
       "      <th>danceability</th>\n",
       "      <th>energy</th>\n",
       "      <th>instrumentalness</th>\n",
       "      <th>liveness</th>\n",
       "      <th>loudness</th>\n",
       "      <th>speechiness</th>\n",
       "      <th>tempo</th>\n",
       "      <th>valence</th>\n",
       "      <th>Component 1</th>\n",
       "      <th>Component 2</th>\n",
       "      <th>Component 3</th>\n",
       "      <th>Component 4</th>\n",
       "      <th>Component 5</th>\n",
       "      <th>Component 6</th>\n",
       "      <th>Cluster</th>\n",
       "    </tr>\n",
       "  </thead>\n",
       "  <tbody>\n",
       "    <tr>\n",
       "      <th>0</th>\n",
       "      <td>0.8900</td>\n",
       "      <td>0.387</td>\n",
       "      <td>0.438</td>\n",
       "      <td>0.983000</td>\n",
       "      <td>0.0880</td>\n",
       "      <td>-16.424</td>\n",
       "      <td>0.0408</td>\n",
       "      <td>99.240</td>\n",
       "      <td>0.0567</td>\n",
       "      <td>5.168567</td>\n",
       "      <td>2.628291</td>\n",
       "      <td>-0.258598</td>\n",
       "      <td>3.777697</td>\n",
       "      <td>4.018558</td>\n",
       "      <td>1.408667</td>\n",
       "      <td>4</td>\n",
       "    </tr>\n",
       "    <tr>\n",
       "      <th>1</th>\n",
       "      <td>0.1770</td>\n",
       "      <td>0.667</td>\n",
       "      <td>0.824</td>\n",
       "      <td>0.015200</td>\n",
       "      <td>0.0933</td>\n",
       "      <td>-5.867</td>\n",
       "      <td>0.0665</td>\n",
       "      <td>114.998</td>\n",
       "      <td>0.5180</td>\n",
       "      <td>-1.075032</td>\n",
       "      <td>-0.836666</td>\n",
       "      <td>-0.002505</td>\n",
       "      <td>0.488766</td>\n",
       "      <td>0.485713</td>\n",
       "      <td>-0.711432</td>\n",
       "      <td>3</td>\n",
       "    </tr>\n",
       "    <tr>\n",
       "      <th>2</th>\n",
       "      <td>0.4510</td>\n",
       "      <td>0.364</td>\n",
       "      <td>0.607</td>\n",
       "      <td>0.000000</td>\n",
       "      <td>0.2510</td>\n",
       "      <td>-9.791</td>\n",
       "      <td>0.1250</td>\n",
       "      <td>79.987</td>\n",
       "      <td>0.5980</td>\n",
       "      <td>0.308269</td>\n",
       "      <td>0.628162</td>\n",
       "      <td>0.299226</td>\n",
       "      <td>1.334329</td>\n",
       "      <td>-1.489722</td>\n",
       "      <td>-0.297389</td>\n",
       "      <td>1</td>\n",
       "    </tr>\n",
       "    <tr>\n",
       "      <th>3</th>\n",
       "      <td>0.0126</td>\n",
       "      <td>0.391</td>\n",
       "      <td>0.951</td>\n",
       "      <td>0.000378</td>\n",
       "      <td>0.0878</td>\n",
       "      <td>-7.419</td>\n",
       "      <td>0.0692</td>\n",
       "      <td>157.660</td>\n",
       "      <td>0.4680</td>\n",
       "      <td>-1.419830</td>\n",
       "      <td>1.024098</td>\n",
       "      <td>-1.035880</td>\n",
       "      <td>-0.557153</td>\n",
       "      <td>0.460133</td>\n",
       "      <td>-0.228180</td>\n",
       "      <td>2</td>\n",
       "    </tr>\n",
       "    <tr>\n",
       "      <th>4</th>\n",
       "      <td>0.3010</td>\n",
       "      <td>0.590</td>\n",
       "      <td>0.546</td>\n",
       "      <td>0.000000</td>\n",
       "      <td>0.0936</td>\n",
       "      <td>-10.213</td>\n",
       "      <td>0.0436</td>\n",
       "      <td>114.040</td>\n",
       "      <td>0.8550</td>\n",
       "      <td>0.028394</td>\n",
       "      <td>-1.421681</td>\n",
       "      <td>-0.172105</td>\n",
       "      <td>0.126220</td>\n",
       "      <td>-0.079371</td>\n",
       "      <td>0.835485</td>\n",
       "      <td>3</td>\n",
       "    </tr>\n",
       "  </tbody>\n",
       "</table>\n",
       "</div>"
      ],
      "text/plain": [
       "   acousticness  danceability  energy  instrumentalness  liveness  loudness  \\\n",
       "0        0.8900         0.387   0.438          0.983000    0.0880   -16.424   \n",
       "1        0.1770         0.667   0.824          0.015200    0.0933    -5.867   \n",
       "2        0.4510         0.364   0.607          0.000000    0.2510    -9.791   \n",
       "3        0.0126         0.391   0.951          0.000378    0.0878    -7.419   \n",
       "4        0.3010         0.590   0.546          0.000000    0.0936   -10.213   \n",
       "\n",
       "   speechiness    tempo  valence  Component 1  Component 2  Component 3  \\\n",
       "0       0.0408   99.240   0.0567     5.168567     2.628291    -0.258598   \n",
       "1       0.0665  114.998   0.5180    -1.075032    -0.836666    -0.002505   \n",
       "2       0.1250   79.987   0.5980     0.308269     0.628162     0.299226   \n",
       "3       0.0692  157.660   0.4680    -1.419830     1.024098    -1.035880   \n",
       "4       0.0436  114.040   0.8550     0.028394    -1.421681    -0.172105   \n",
       "\n",
       "   Component 4  Component 5  Component 6  Cluster  \n",
       "0     3.777697     4.018558     1.408667        4  \n",
       "1     0.488766     0.485713    -0.711432        3  \n",
       "2     1.334329    -1.489722    -0.297389        1  \n",
       "3    -0.557153     0.460133    -0.228180        2  \n",
       "4     0.126220    -0.079371     0.835485        3  "
      ]
     },
     "execution_count": 1598,
     "metadata": {},
     "output_type": "execute_result"
    }
   ],
   "source": [
    "df_seg_pca_kmeans = pd.concat([df_X.reset_index(drop=True), pd.DataFrame(scores_pca)], axis=1)\n",
    "df_seg_pca_kmeans.columns.values[(-1*n_comps):] = [\"Component \" + str(i+1) for i in range(n_comps)]\n",
    "df_seg_pca_kmeans['Cluster'] = kmeans_pca.labels_\n",
    "df_seg_pca_kmeans.head()"
   ]
  },
  {
   "cell_type": "code",
   "execution_count": 1599,
   "id": "91dc6cda",
   "metadata": {},
   "outputs": [
    {
     "name": "stderr",
     "output_type": "stream",
     "text": [
      "/Users/estebanbarrios/anaconda3/lib/python3.7/site-packages/seaborn/_decorators.py:43: FutureWarning:\n",
      "\n",
      "Pass the following variables as keyword args: x, y. From version 0.12, the only valid positional argument will be `data`, and passing other arguments without an explicit keyword will result in an error or misinterpretation.\n",
      "\n"
     ]
    },
    {
     "data": {
      "image/png": "[encoded data removed]",
      "text/plain": [
       "<Figure size 720x576 with 1 Axes>"
      ]
     },
     "metadata": {
      "needs_background": "light"
     },
     "output_type": "display_data"
    }
   ],
   "source": [
    "import seaborn as sns\n",
    "x = df_seg_pca_kmeans['Component 2']\n",
    "y = df_seg_pca_kmeans['Component 1']\n",
    "fig = plt.figure(figsize=(10, 8))\n",
    "sns.scatterplot(x, y, hue=df_seg_pca_kmeans['Cluster'], palette='Set2')\n",
    "plt.title('Clusters by PCA Components', fontsize=20)\n",
    "plt.xlabel(\"Component 2\", fontsize=18)\n",
    "plt.ylabel(\"Component 1\", fontsize=18)\n",
    "plt.xticks(fontsize=16)\n",
    "plt.yticks(fontsize=16)\n",
    "plt.show()"
   ]
  },
  {
   "cell_type": "code",
   "execution_count": 1600,
   "id": "3f106c81",
   "metadata": {},
   "outputs": [
    {
     "data": {
      "text/html": [
       "<div>\n",
       "<style scoped>\n",
       "    .dataframe tbody tr th:only-of-type {\n",
       "        vertical-align: middle;\n",
       "    }\n",
       "\n",
       "    .dataframe tbody tr th {\n",
       "        vertical-align: top;\n",
       "    }\n",
       "\n",
       "    .dataframe thead th {\n",
       "        text-align: right;\n",
       "    }\n",
       "</style>\n",
       "<table border=\"1\" class=\"dataframe\">\n",
       "  <thead>\n",
       "    <tr style=\"text-align: right;\">\n",
       "      <th></th>\n",
       "      <th>name</th>\n",
       "      <th>artist</th>\n",
       "      <th>track_URI</th>\n",
       "      <th>acousticness</th>\n",
       "      <th>danceability</th>\n",
       "      <th>energy</th>\n",
       "      <th>instrumentalness</th>\n",
       "      <th>liveness</th>\n",
       "      <th>loudness</th>\n",
       "      <th>speechiness</th>\n",
       "      <th>tempo</th>\n",
       "      <th>valence</th>\n",
       "      <th>playlist</th>\n",
       "      <th>Cluster</th>\n",
       "    </tr>\n",
       "  </thead>\n",
       "  <tbody>\n",
       "    <tr>\n",
       "      <th>0</th>\n",
       "      <td>An Encounter</td>\n",
       "      <td>The 1975</td>\n",
       "      <td>spotify:track:3Uuf7UQy96o8rkyEXSmAmv</td>\n",
       "      <td>0.8900</td>\n",
       "      <td>0.387</td>\n",
       "      <td>0.438</td>\n",
       "      <td>0.983000</td>\n",
       "      <td>0.0880</td>\n",
       "      <td>-16.424</td>\n",
       "      <td>0.0408</td>\n",
       "      <td>99.240</td>\n",
       "      <td>0.0567</td>\n",
       "      <td>New Playlist</td>\n",
       "      <td>4</td>\n",
       "    </tr>\n",
       "    <tr>\n",
       "      <th>1</th>\n",
       "      <td>TOOTIMETOOTIMETOOTIME</td>\n",
       "      <td>The 1975</td>\n",
       "      <td>spotify:track:33DzKnwuBE6lfOiADwzd5E</td>\n",
       "      <td>0.1770</td>\n",
       "      <td>0.667</td>\n",
       "      <td>0.824</td>\n",
       "      <td>0.015200</td>\n",
       "      <td>0.0933</td>\n",
       "      <td>-5.867</td>\n",
       "      <td>0.0665</td>\n",
       "      <td>114.998</td>\n",
       "      <td>0.5180</td>\n",
       "      <td>New Playlist</td>\n",
       "      <td>3</td>\n",
       "    </tr>\n",
       "    <tr>\n",
       "      <th>2</th>\n",
       "      <td>Runaround Sue</td>\n",
       "      <td>Dion</td>\n",
       "      <td>spotify:track:1DndHckdH9m5rp6gYP086b</td>\n",
       "      <td>0.4510</td>\n",
       "      <td>0.364</td>\n",
       "      <td>0.607</td>\n",
       "      <td>0.000000</td>\n",
       "      <td>0.2510</td>\n",
       "      <td>-9.791</td>\n",
       "      <td>0.1250</td>\n",
       "      <td>79.987</td>\n",
       "      <td>0.5980</td>\n",
       "      <td>New Playlist</td>\n",
       "      <td>1</td>\n",
       "    </tr>\n",
       "    <tr>\n",
       "      <th>3</th>\n",
       "      <td>What's My Age Again?</td>\n",
       "      <td>blink-182</td>\n",
       "      <td>spotify:track:4LJhJ6DQS7NwE7UKtvcM52</td>\n",
       "      <td>0.0126</td>\n",
       "      <td>0.391</td>\n",
       "      <td>0.951</td>\n",
       "      <td>0.000378</td>\n",
       "      <td>0.0878</td>\n",
       "      <td>-7.419</td>\n",
       "      <td>0.0692</td>\n",
       "      <td>157.660</td>\n",
       "      <td>0.4680</td>\n",
       "      <td>New Playlist</td>\n",
       "      <td>2</td>\n",
       "    </tr>\n",
       "    <tr>\n",
       "      <th>4</th>\n",
       "      <td>The Wanderer</td>\n",
       "      <td>Dion</td>\n",
       "      <td>spotify:track:3v8d3ku3kiTZVPxEt7a2dE</td>\n",
       "      <td>0.3010</td>\n",
       "      <td>0.590</td>\n",
       "      <td>0.546</td>\n",
       "      <td>0.000000</td>\n",
       "      <td>0.0936</td>\n",
       "      <td>-10.213</td>\n",
       "      <td>0.0436</td>\n",
       "      <td>114.040</td>\n",
       "      <td>0.8550</td>\n",
       "      <td>New Playlist</td>\n",
       "      <td>3</td>\n",
       "    </tr>\n",
       "    <tr>\n",
       "      <th>...</th>\n",
       "      <td>...</td>\n",
       "      <td>...</td>\n",
       "      <td>...</td>\n",
       "      <td>...</td>\n",
       "      <td>...</td>\n",
       "      <td>...</td>\n",
       "      <td>...</td>\n",
       "      <td>...</td>\n",
       "      <td>...</td>\n",
       "      <td>...</td>\n",
       "      <td>...</td>\n",
       "      <td>...</td>\n",
       "      <td>...</td>\n",
       "      <td>...</td>\n",
       "    </tr>\n",
       "    <tr>\n",
       "      <th>116</th>\n",
       "      <td>Dancing Queen</td>\n",
       "      <td>ABBA</td>\n",
       "      <td>spotify:track:0GjEhVFGZW8afUYGChu3Rr</td>\n",
       "      <td>0.3580</td>\n",
       "      <td>0.543</td>\n",
       "      <td>0.870</td>\n",
       "      <td>0.000939</td>\n",
       "      <td>0.7920</td>\n",
       "      <td>-6.514</td>\n",
       "      <td>0.0428</td>\n",
       "      <td>100.804</td>\n",
       "      <td>0.7540</td>\n",
       "      <td>New Playlist</td>\n",
       "      <td>2</td>\n",
       "    </tr>\n",
       "    <tr>\n",
       "      <th>117</th>\n",
       "      <td>If It Wasn't For The Nights</td>\n",
       "      <td>ABBA</td>\n",
       "      <td>spotify:track:3R47KOuGuGvmoeQqbODPa3</td>\n",
       "      <td>0.2900</td>\n",
       "      <td>0.700</td>\n",
       "      <td>0.880</td>\n",
       "      <td>0.001860</td>\n",
       "      <td>0.2090</td>\n",
       "      <td>-4.692</td>\n",
       "      <td>0.0389</td>\n",
       "      <td>105.650</td>\n",
       "      <td>0.8720</td>\n",
       "      <td>New Playlist</td>\n",
       "      <td>3</td>\n",
       "    </tr>\n",
       "    <tr>\n",
       "      <th>118</th>\n",
       "      <td>Chiquitita</td>\n",
       "      <td>ABBA</td>\n",
       "      <td>spotify:track:762B4bOcXF7I2Y8UlKTyTy</td>\n",
       "      <td>0.7340</td>\n",
       "      <td>0.500</td>\n",
       "      <td>0.554</td>\n",
       "      <td>0.000004</td>\n",
       "      <td>0.3120</td>\n",
       "      <td>-8.108</td>\n",
       "      <td>0.0354</td>\n",
       "      <td>84.229</td>\n",
       "      <td>0.3720</td>\n",
       "      <td>New Playlist</td>\n",
       "      <td>1</td>\n",
       "    </tr>\n",
       "    <tr>\n",
       "      <th>119</th>\n",
       "      <td>Chiquitita - Spanish Version</td>\n",
       "      <td>ABBA</td>\n",
       "      <td>spotify:track:0Fuc8WMl8xSXjb8d4M6Xqo</td>\n",
       "      <td>0.5140</td>\n",
       "      <td>0.549</td>\n",
       "      <td>0.502</td>\n",
       "      <td>0.000000</td>\n",
       "      <td>0.2220</td>\n",
       "      <td>-9.110</td>\n",
       "      <td>0.0292</td>\n",
       "      <td>84.287</td>\n",
       "      <td>0.3980</td>\n",
       "      <td>New Playlist</td>\n",
       "      <td>1</td>\n",
       "    </tr>\n",
       "    <tr>\n",
       "      <th>120</th>\n",
       "      <td>She's so High</td>\n",
       "      <td>Tal Bachman</td>\n",
       "      <td>spotify:track:7mnGQesk1TzQLzQ9bYWZPR</td>\n",
       "      <td>0.2000</td>\n",
       "      <td>0.537</td>\n",
       "      <td>0.840</td>\n",
       "      <td>0.000002</td>\n",
       "      <td>0.0998</td>\n",
       "      <td>-4.626</td>\n",
       "      <td>0.0363</td>\n",
       "      <td>124.269</td>\n",
       "      <td>0.2110</td>\n",
       "      <td>New Playlist</td>\n",
       "      <td>2</td>\n",
       "    </tr>\n",
       "  </tbody>\n",
       "</table>\n",
       "<p>121 rows × 14 columns</p>\n",
       "</div>"
      ],
      "text/plain": [
       "                             name       artist  \\\n",
       "0                    An Encounter     The 1975   \n",
       "1           TOOTIMETOOTIMETOOTIME     The 1975   \n",
       "2                   Runaround Sue         Dion   \n",
       "3            What's My Age Again?    blink-182   \n",
       "4                    The Wanderer         Dion   \n",
       "..                            ...          ...   \n",
       "116                 Dancing Queen         ABBA   \n",
       "117   If It Wasn't For The Nights         ABBA   \n",
       "118                    Chiquitita         ABBA   \n",
       "119  Chiquitita - Spanish Version         ABBA   \n",
       "120                 She's so High  Tal Bachman   \n",
       "\n",
       "                                track_URI  acousticness  danceability  energy  \\\n",
       "0    spotify:track:3Uuf7UQy96o8rkyEXSmAmv        0.8900         0.387   0.438   \n",
       "1    spotify:track:33DzKnwuBE6lfOiADwzd5E        0.1770         0.667   0.824   \n",
       "2    spotify:track:1DndHckdH9m5rp6gYP086b        0.4510         0.364   0.607   \n",
       "3    spotify:track:4LJhJ6DQS7NwE7UKtvcM52        0.0126         0.391   0.951   \n",
       "4    spotify:track:3v8d3ku3kiTZVPxEt7a2dE        0.3010         0.590   0.546   \n",
       "..                                    ...           ...           ...     ...   \n",
       "116  spotify:track:0GjEhVFGZW8afUYGChu3Rr        0.3580         0.543   0.870   \n",
       "117  spotify:track:3R47KOuGuGvmoeQqbODPa3        0.2900         0.700   0.880   \n",
       "118  spotify:track:762B4bOcXF7I2Y8UlKTyTy        0.7340         0.500   0.554   \n",
       "119  spotify:track:0Fuc8WMl8xSXjb8d4M6Xqo        0.5140         0.549   0.502   \n",
       "120  spotify:track:7mnGQesk1TzQLzQ9bYWZPR        0.2000         0.537   0.840   \n",
       "\n",
       "     instrumentalness  liveness  loudness  speechiness    tempo  valence  \\\n",
       "0            0.983000    0.0880   -16.424       0.0408   99.240   0.0567   \n",
       "1            0.015200    0.0933    -5.867       0.0665  114.998   0.5180   \n",
       "2            0.000000    0.2510    -9.791       0.1250   79.987   0.5980   \n",
       "3            0.000378    0.0878    -7.419       0.0692  157.660   0.4680   \n",
       "4            0.000000    0.0936   -10.213       0.0436  114.040   0.8550   \n",
       "..                ...       ...       ...          ...      ...      ...   \n",
       "116          0.000939    0.7920    -6.514       0.0428  100.804   0.7540   \n",
       "117          0.001860    0.2090    -4.692       0.0389  105.650   0.8720   \n",
       "118          0.000004    0.3120    -8.108       0.0354   84.229   0.3720   \n",
       "119          0.000000    0.2220    -9.110       0.0292   84.287   0.3980   \n",
       "120          0.000002    0.0998    -4.626       0.0363  124.269   0.2110   \n",
       "\n",
       "         playlist  Cluster  \n",
       "0    New Playlist        4  \n",
       "1    New Playlist        3  \n",
       "2    New Playlist        1  \n",
       "3    New Playlist        2  \n",
       "4    New Playlist        3  \n",
       "..            ...      ...  \n",
       "116  New Playlist        2  \n",
       "117  New Playlist        3  \n",
       "118  New Playlist        1  \n",
       "119  New Playlist        1  \n",
       "120  New Playlist        2  \n",
       "\n",
       "[121 rows x 14 columns]"
      ]
     },
     "execution_count": 1600,
     "metadata": {},
     "output_type": "execute_result"
    }
   ],
   "source": [
    "df['Cluster'] = df_seg_pca_kmeans['Cluster']\n",
    "df"
   ]
  },
  {
   "cell_type": "code",
   "execution_count": 1601,
   "id": "be643a82",
   "metadata": {},
   "outputs": [
    {
     "data": {
      "text/plain": [
       "5"
      ]
     },
     "execution_count": 1601,
     "metadata": {},
     "output_type": "execute_result"
    }
   ],
   "source": [
    "n_clusters"
   ]
  },
  {
   "cell_type": "code",
   "execution_count": 1613,
   "id": "896c2784",
   "metadata": {},
   "outputs": [],
   "source": [
    "songs = list(df.loc[df['Cluster'] == 2]['track_URI'])\n",
    "\n",
    "\n",
    "#Making a new playlist with songs classified in a specific cluster \n",
    "for i in range(1):\n",
    "    result = sp.user_playlist_create(username, 'cluster'+str(i), public=True, collaborative=False, description='')\n",
    "    playlist_id = result['id']\n",
    "    #songs = list(df.loc[df['Cluster'] == i]['track_URI'])\n",
    "    if len(songs) > 100:\n",
    "        sp.playlist_add_items(playlist_id, songs[:100])\n",
    "        sp.playlist_add_items(playlist_id, songs[100:])\n",
    "    else:\n",
    "        sp.playlist_add_items(playlist_id, songs)"
   ]
  },
  {
   "cell_type": "code",
   "execution_count": 67,
   "id": "621f0e48",
   "metadata": {
    "scrolled": true
   },
   "outputs": [
    {
     "data": {
      "text/html": [
       "<div>\n",
       "<style scoped>\n",
       "    .dataframe tbody tr th:only-of-type {\n",
       "        vertical-align: middle;\n",
       "    }\n",
       "\n",
       "    .dataframe tbody tr th {\n",
       "        vertical-align: top;\n",
       "    }\n",
       "\n",
       "    .dataframe thead th {\n",
       "        text-align: right;\n",
       "    }\n",
       "</style>\n",
       "<table border=\"1\" class=\"dataframe\">\n",
       "  <thead>\n",
       "    <tr style=\"text-align: right;\">\n",
       "      <th></th>\n",
       "      <th>name</th>\n",
       "      <th>artist</th>\n",
       "      <th>track_URI</th>\n",
       "      <th>acousticness</th>\n",
       "      <th>danceability</th>\n",
       "      <th>energy</th>\n",
       "      <th>instrumentalness</th>\n",
       "      <th>liveness</th>\n",
       "      <th>loudness</th>\n",
       "      <th>speechiness</th>\n",
       "      <th>tempo</th>\n",
       "      <th>valence</th>\n",
       "      <th>playlist</th>\n",
       "      <th>Cluster</th>\n",
       "    </tr>\n",
       "  </thead>\n",
       "  <tbody>\n",
       "    <tr>\n",
       "      <th>3</th>\n",
       "      <td>Smoke on the Water</td>\n",
       "      <td>Deep Purple</td>\n",
       "      <td>spotify:track:5SAUIWdZ04OxYfJFDchC7S</td>\n",
       "      <td>0.09830</td>\n",
       "      <td>0.632</td>\n",
       "      <td>0.586</td>\n",
       "      <td>0.581000</td>\n",
       "      <td>0.0535</td>\n",
       "      <td>-11.333</td>\n",
       "      <td>0.0284</td>\n",
       "      <td>114.243</td>\n",
       "      <td>0.890</td>\n",
       "      <td>rock</td>\n",
       "      <td>1</td>\n",
       "    </tr>\n",
       "    <tr>\n",
       "      <th>11</th>\n",
       "      <td>Under the Bridge</td>\n",
       "      <td>Red Hot Chili Peppers</td>\n",
       "      <td>spotify:track:3d9DChrdc6BOeFsbrZ3Is0</td>\n",
       "      <td>0.05760</td>\n",
       "      <td>0.559</td>\n",
       "      <td>0.345</td>\n",
       "      <td>0.000105</td>\n",
       "      <td>0.1410</td>\n",
       "      <td>-13.496</td>\n",
       "      <td>0.0459</td>\n",
       "      <td>84.581</td>\n",
       "      <td>0.458</td>\n",
       "      <td>rock</td>\n",
       "      <td>1</td>\n",
       "    </tr>\n",
       "    <tr>\n",
       "      <th>14</th>\n",
       "      <td>Seven Nation Army</td>\n",
       "      <td>The White Stripes</td>\n",
       "      <td>spotify:track:7i6r9KotUPQg3ozKKgEPIN</td>\n",
       "      <td>0.00817</td>\n",
       "      <td>0.726</td>\n",
       "      <td>0.463</td>\n",
       "      <td>0.447000</td>\n",
       "      <td>0.2550</td>\n",
       "      <td>-7.828</td>\n",
       "      <td>0.0799</td>\n",
       "      <td>123.881</td>\n",
       "      <td>0.321</td>\n",
       "      <td>rock</td>\n",
       "      <td>1</td>\n",
       "    </tr>\n",
       "    <tr>\n",
       "      <th>31</th>\n",
       "      <td>Do I Wanna Know?</td>\n",
       "      <td>Arctic Monkeys</td>\n",
       "      <td>spotify:track:5FVd6KXrgO9B3JPmC8OPst</td>\n",
       "      <td>0.18600</td>\n",
       "      <td>0.548</td>\n",
       "      <td>0.532</td>\n",
       "      <td>0.000263</td>\n",
       "      <td>0.2170</td>\n",
       "      <td>-7.596</td>\n",
       "      <td>0.0323</td>\n",
       "      <td>85.030</td>\n",
       "      <td>0.405</td>\n",
       "      <td>rock</td>\n",
       "      <td>1</td>\n",
       "    </tr>\n",
       "    <tr>\n",
       "      <th>37</th>\n",
       "      <td>Will o the Wisp</td>\n",
       "      <td>Opeth</td>\n",
       "      <td>spotify:track:4kkPuJXecGNqHsaiCvdfmn</td>\n",
       "      <td>0.31800</td>\n",
       "      <td>0.452</td>\n",
       "      <td>0.386</td>\n",
       "      <td>0.002170</td>\n",
       "      <td>0.1500</td>\n",
       "      <td>-11.736</td>\n",
       "      <td>0.0260</td>\n",
       "      <td>63.344</td>\n",
       "      <td>0.250</td>\n",
       "      <td>rock</td>\n",
       "      <td>1</td>\n",
       "    </tr>\n",
       "    <tr>\n",
       "      <th>44</th>\n",
       "      <td>Friend of the Devil</td>\n",
       "      <td>Grateful Dead</td>\n",
       "      <td>spotify:track:5ZLzl6T8JwqMTMdoE0nCbU</td>\n",
       "      <td>0.33400</td>\n",
       "      <td>0.642</td>\n",
       "      <td>0.628</td>\n",
       "      <td>0.000008</td>\n",
       "      <td>0.6140</td>\n",
       "      <td>-12.849</td>\n",
       "      <td>0.0358</td>\n",
       "      <td>103.317</td>\n",
       "      <td>0.893</td>\n",
       "      <td>rock</td>\n",
       "      <td>1</td>\n",
       "    </tr>\n",
       "    <tr>\n",
       "      <th>45</th>\n",
       "      <td>Sunshine Of Your Love</td>\n",
       "      <td>Cream</td>\n",
       "      <td>spotify:track:6FRwDxXsvSasw0y2eDArsz</td>\n",
       "      <td>0.47500</td>\n",
       "      <td>0.684</td>\n",
       "      <td>0.481</td>\n",
       "      <td>0.000066</td>\n",
       "      <td>0.1180</td>\n",
       "      <td>-12.590</td>\n",
       "      <td>0.0384</td>\n",
       "      <td>115.078</td>\n",
       "      <td>0.784</td>\n",
       "      <td>rock</td>\n",
       "      <td>1</td>\n",
       "    </tr>\n",
       "    <tr>\n",
       "      <th>46</th>\n",
       "      <td>Stairway to Heaven - Remaster</td>\n",
       "      <td>Led Zeppelin</td>\n",
       "      <td>spotify:track:5CQ30WqJwcep0pYcV4AMNc</td>\n",
       "      <td>0.58000</td>\n",
       "      <td>0.338</td>\n",
       "      <td>0.340</td>\n",
       "      <td>0.003200</td>\n",
       "      <td>0.1160</td>\n",
       "      <td>-12.049</td>\n",
       "      <td>0.0339</td>\n",
       "      <td>82.433</td>\n",
       "      <td>0.197</td>\n",
       "      <td>rock</td>\n",
       "      <td>1</td>\n",
       "    </tr>\n",
       "    <tr>\n",
       "      <th>50</th>\n",
       "      <td>Gimme Shelter</td>\n",
       "      <td>The Rolling Stones</td>\n",
       "      <td>spotify:track:6H3kDe7CGoWYBabAeVWGiD</td>\n",
       "      <td>0.44700</td>\n",
       "      <td>0.634</td>\n",
       "      <td>0.630</td>\n",
       "      <td>0.039000</td>\n",
       "      <td>0.1700</td>\n",
       "      <td>-8.277</td>\n",
       "      <td>0.0310</td>\n",
       "      <td>118.628</td>\n",
       "      <td>0.489</td>\n",
       "      <td>rock</td>\n",
       "      <td>1</td>\n",
       "    </tr>\n",
       "    <tr>\n",
       "      <th>51</th>\n",
       "      <td>Life's Been Good</td>\n",
       "      <td>Joe Walsh</td>\n",
       "      <td>spotify:track:2wvMC5EyaaYQwBfiwwY2xE</td>\n",
       "      <td>0.25000</td>\n",
       "      <td>0.505</td>\n",
       "      <td>0.476</td>\n",
       "      <td>0.009150</td>\n",
       "      <td>0.1130</td>\n",
       "      <td>-12.897</td>\n",
       "      <td>0.0711</td>\n",
       "      <td>99.310</td>\n",
       "      <td>0.542</td>\n",
       "      <td>rock</td>\n",
       "      <td>1</td>\n",
       "    </tr>\n",
       "    <tr>\n",
       "      <th>61</th>\n",
       "      <td>No Sleep Till Brooklyn</td>\n",
       "      <td>Beastie Boys</td>\n",
       "      <td>spotify:track:5qxChyzKLEyoPJ5qGrdurN</td>\n",
       "      <td>0.12200</td>\n",
       "      <td>0.712</td>\n",
       "      <td>0.691</td>\n",
       "      <td>0.000000</td>\n",
       "      <td>0.0538</td>\n",
       "      <td>-8.157</td>\n",
       "      <td>0.1280</td>\n",
       "      <td>97.022</td>\n",
       "      <td>0.742</td>\n",
       "      <td>rock</td>\n",
       "      <td>1</td>\n",
       "    </tr>\n",
       "    <tr>\n",
       "      <th>66</th>\n",
       "      <td>Barracuda</td>\n",
       "      <td>Heart</td>\n",
       "      <td>spotify:track:4KfSdst7rW39C0sfhArdrz</td>\n",
       "      <td>0.01500</td>\n",
       "      <td>0.548</td>\n",
       "      <td>0.691</td>\n",
       "      <td>0.106000</td>\n",
       "      <td>0.1440</td>\n",
       "      <td>-13.553</td>\n",
       "      <td>0.0369</td>\n",
       "      <td>137.145</td>\n",
       "      <td>0.667</td>\n",
       "      <td>rock</td>\n",
       "      <td>1</td>\n",
       "    </tr>\n",
       "    <tr>\n",
       "      <th>71</th>\n",
       "      <td>December</td>\n",
       "      <td>Collective Soul</td>\n",
       "      <td>spotify:track:3yi27cGUFPTQUdWZV9nV67</td>\n",
       "      <td>0.58900</td>\n",
       "      <td>0.684</td>\n",
       "      <td>0.645</td>\n",
       "      <td>0.004320</td>\n",
       "      <td>0.1800</td>\n",
       "      <td>-5.707</td>\n",
       "      <td>0.0272</td>\n",
       "      <td>121.995</td>\n",
       "      <td>0.366</td>\n",
       "      <td>rock</td>\n",
       "      <td>1</td>\n",
       "    </tr>\n",
       "    <tr>\n",
       "      <th>74</th>\n",
       "      <td>Route 66</td>\n",
       "      <td>The Rolling Stones</td>\n",
       "      <td>spotify:track:1FRP8d6l2jm3DS5f78ZrhK</td>\n",
       "      <td>0.29600</td>\n",
       "      <td>0.671</td>\n",
       "      <td>0.725</td>\n",
       "      <td>0.000220</td>\n",
       "      <td>0.0889</td>\n",
       "      <td>-10.065</td>\n",
       "      <td>0.0650</td>\n",
       "      <td>85.270</td>\n",
       "      <td>0.956</td>\n",
       "      <td>rock</td>\n",
       "      <td>1</td>\n",
       "    </tr>\n",
       "  </tbody>\n",
       "</table>\n",
       "</div>"
      ],
      "text/plain": [
       "                             name                 artist  \\\n",
       "3              Smoke on the Water            Deep Purple   \n",
       "11               Under the Bridge  Red Hot Chili Peppers   \n",
       "14              Seven Nation Army      The White Stripes   \n",
       "31               Do I Wanna Know?         Arctic Monkeys   \n",
       "37                Will o the Wisp                  Opeth   \n",
       "44            Friend of the Devil          Grateful Dead   \n",
       "45          Sunshine Of Your Love                  Cream   \n",
       "46  Stairway to Heaven - Remaster           Led Zeppelin   \n",
       "50                  Gimme Shelter     The Rolling Stones   \n",
       "51               Life's Been Good              Joe Walsh   \n",
       "61         No Sleep Till Brooklyn           Beastie Boys   \n",
       "66                      Barracuda                  Heart   \n",
       "71                       December        Collective Soul   \n",
       "74                       Route 66     The Rolling Stones   \n",
       "\n",
       "                               track_URI  acousticness  danceability  energy  \\\n",
       "3   spotify:track:5SAUIWdZ04OxYfJFDchC7S       0.09830         0.632   0.586   \n",
       "11  spotify:track:3d9DChrdc6BOeFsbrZ3Is0       0.05760         0.559   0.345   \n",
       "14  spotify:track:7i6r9KotUPQg3ozKKgEPIN       0.00817         0.726   0.463   \n",
       "31  spotify:track:5FVd6KXrgO9B3JPmC8OPst       0.18600         0.548   0.532   \n",
       "37  spotify:track:4kkPuJXecGNqHsaiCvdfmn       0.31800         0.452   0.386   \n",
       "44  spotify:track:5ZLzl6T8JwqMTMdoE0nCbU       0.33400         0.642   0.628   \n",
       "45  spotify:track:6FRwDxXsvSasw0y2eDArsz       0.47500         0.684   0.481   \n",
       "46  spotify:track:5CQ30WqJwcep0pYcV4AMNc       0.58000         0.338   0.340   \n",
       "50  spotify:track:6H3kDe7CGoWYBabAeVWGiD       0.44700         0.634   0.630   \n",
       "51  spotify:track:2wvMC5EyaaYQwBfiwwY2xE       0.25000         0.505   0.476   \n",
       "61  spotify:track:5qxChyzKLEyoPJ5qGrdurN       0.12200         0.712   0.691   \n",
       "66  spotify:track:4KfSdst7rW39C0sfhArdrz       0.01500         0.548   0.691   \n",
       "71  spotify:track:3yi27cGUFPTQUdWZV9nV67       0.58900         0.684   0.645   \n",
       "74  spotify:track:1FRP8d6l2jm3DS5f78ZrhK       0.29600         0.671   0.725   \n",
       "\n",
       "    instrumentalness  liveness  loudness  speechiness    tempo  valence  \\\n",
       "3           0.581000    0.0535   -11.333       0.0284  114.243    0.890   \n",
       "11          0.000105    0.1410   -13.496       0.0459   84.581    0.458   \n",
       "14          0.447000    0.2550    -7.828       0.0799  123.881    0.321   \n",
       "31          0.000263    0.2170    -7.596       0.0323   85.030    0.405   \n",
       "37          0.002170    0.1500   -11.736       0.0260   63.344    0.250   \n",
       "44          0.000008    0.6140   -12.849       0.0358  103.317    0.893   \n",
       "45          0.000066    0.1180   -12.590       0.0384  115.078    0.784   \n",
       "46          0.003200    0.1160   -12.049       0.0339   82.433    0.197   \n",
       "50          0.039000    0.1700    -8.277       0.0310  118.628    0.489   \n",
       "51          0.009150    0.1130   -12.897       0.0711   99.310    0.542   \n",
       "61          0.000000    0.0538    -8.157       0.1280   97.022    0.742   \n",
       "66          0.106000    0.1440   -13.553       0.0369  137.145    0.667   \n",
       "71          0.004320    0.1800    -5.707       0.0272  121.995    0.366   \n",
       "74          0.000220    0.0889   -10.065       0.0650   85.270    0.956   \n",
       "\n",
       "   playlist  Cluster  \n",
       "3      rock        1  \n",
       "11     rock        1  \n",
       "14     rock        1  \n",
       "31     rock        1  \n",
       "37     rock        1  \n",
       "44     rock        1  \n",
       "45     rock        1  \n",
       "46     rock        1  \n",
       "50     rock        1  \n",
       "51     rock        1  \n",
       "61     rock        1  \n",
       "66     rock        1  \n",
       "71     rock        1  \n",
       "74     rock        1  "
      ]
     },
     "execution_count": 67,
     "metadata": {},
     "output_type": "execute_result"
    }
   ],
   "source": [
    "df[df['Cluster'].isin([1])]"
   ]
  },
  {
   "cell_type": "code",
   "execution_count": 1605,
   "id": "32bb9710",
   "metadata": {},
   "outputs": [
    {
     "data": {
      "text/html": [
       "<div>\n",
       "<style scoped>\n",
       "    .dataframe tbody tr th:only-of-type {\n",
       "        vertical-align: middle;\n",
       "    }\n",
       "\n",
       "    .dataframe tbody tr th {\n",
       "        vertical-align: top;\n",
       "    }\n",
       "\n",
       "    .dataframe thead th {\n",
       "        text-align: right;\n",
       "    }\n",
       "</style>\n",
       "<table border=\"1\" class=\"dataframe\">\n",
       "  <thead>\n",
       "    <tr style=\"text-align: right;\">\n",
       "      <th></th>\n",
       "      <th>name</th>\n",
       "      <th>artist</th>\n",
       "      <th>track_URI</th>\n",
       "      <th>cluster</th>\n",
       "      <th>acousticness</th>\n",
       "      <th>danceability</th>\n",
       "      <th>energy</th>\n",
       "      <th>instrumentalness</th>\n",
       "      <th>liveness</th>\n",
       "      <th>loudness</th>\n",
       "      <th>speechiness</th>\n",
       "      <th>tempo</th>\n",
       "      <th>valence</th>\n",
       "    </tr>\n",
       "  </thead>\n",
       "  <tbody>\n",
       "    <tr>\n",
       "      <th>0</th>\n",
       "      <td>An Encounter</td>\n",
       "      <td>The 1975</td>\n",
       "      <td>spotify:track:3Uuf7UQy96o8rkyEXSmAmv</td>\n",
       "      <td>4</td>\n",
       "      <td>0.963203</td>\n",
       "      <td>0.328358</td>\n",
       "      <td>0.436529</td>\n",
       "      <td>1.000000</td>\n",
       "      <td>0.052702</td>\n",
       "      <td>0.166586</td>\n",
       "      <td>0.058256</td>\n",
       "      <td>0.227774</td>\n",
       "      <td>0.018168</td>\n",
       "    </tr>\n",
       "    <tr>\n",
       "      <th>1</th>\n",
       "      <td>TOOTIMETOOTIMETOOTIME</td>\n",
       "      <td>The 1975</td>\n",
       "      <td>spotify:track:33DzKnwuBE6lfOiADwzd5E</td>\n",
       "      <td>3</td>\n",
       "      <td>0.191557</td>\n",
       "      <td>0.746269</td>\n",
       "      <td>0.850027</td>\n",
       "      <td>0.015463</td>\n",
       "      <td>0.058595</td>\n",
       "      <td>0.808895</td>\n",
       "      <td>0.146846</td>\n",
       "      <td>0.344210</td>\n",
       "      <td>0.514083</td>\n",
       "    </tr>\n",
       "    <tr>\n",
       "      <th>2</th>\n",
       "      <td>Runaround Sue</td>\n",
       "      <td>Dion</td>\n",
       "      <td>spotify:track:1DndHckdH9m5rp6gYP086b</td>\n",
       "      <td>1</td>\n",
       "      <td>0.488094</td>\n",
       "      <td>0.294030</td>\n",
       "      <td>0.617568</td>\n",
       "      <td>0.000000</td>\n",
       "      <td>0.233934</td>\n",
       "      <td>0.570151</td>\n",
       "      <td>0.348501</td>\n",
       "      <td>0.085513</td>\n",
       "      <td>0.600086</td>\n",
       "    </tr>\n",
       "    <tr>\n",
       "      <th>3</th>\n",
       "      <td>What's My Age Again?</td>\n",
       "      <td>blink-182</td>\n",
       "      <td>spotify:track:4LJhJ6DQS7NwE7UKtvcM52</td>\n",
       "      <td>2</td>\n",
       "      <td>0.013635</td>\n",
       "      <td>0.334328</td>\n",
       "      <td>0.986074</td>\n",
       "      <td>0.000385</td>\n",
       "      <td>0.052479</td>\n",
       "      <td>0.714468</td>\n",
       "      <td>0.156153</td>\n",
       "      <td>0.659440</td>\n",
       "      <td>0.460331</td>\n",
       "    </tr>\n",
       "    <tr>\n",
       "      <th>4</th>\n",
       "      <td>The Wanderer</td>\n",
       "      <td>Dion</td>\n",
       "      <td>spotify:track:3v8d3ku3kiTZVPxEt7a2dE</td>\n",
       "      <td>3</td>\n",
       "      <td>0.325756</td>\n",
       "      <td>0.631343</td>\n",
       "      <td>0.552223</td>\n",
       "      <td>0.000000</td>\n",
       "      <td>0.058928</td>\n",
       "      <td>0.544476</td>\n",
       "      <td>0.067908</td>\n",
       "      <td>0.337131</td>\n",
       "      <td>0.876371</td>\n",
       "    </tr>\n",
       "  </tbody>\n",
       "</table>\n",
       "</div>"
      ],
      "text/plain": [
       "                    name     artist                             track_URI  \\\n",
       "0           An Encounter   The 1975  spotify:track:3Uuf7UQy96o8rkyEXSmAmv   \n",
       "1  TOOTIMETOOTIMETOOTIME   The 1975  spotify:track:33DzKnwuBE6lfOiADwzd5E   \n",
       "2          Runaround Sue       Dion  spotify:track:1DndHckdH9m5rp6gYP086b   \n",
       "3   What's My Age Again?  blink-182  spotify:track:4LJhJ6DQS7NwE7UKtvcM52   \n",
       "4           The Wanderer       Dion  spotify:track:3v8d3ku3kiTZVPxEt7a2dE   \n",
       "\n",
       "   cluster  acousticness  danceability    energy  instrumentalness  liveness  \\\n",
       "0        4      0.963203      0.328358  0.436529          1.000000  0.052702   \n",
       "1        3      0.191557      0.746269  0.850027          0.015463  0.058595   \n",
       "2        1      0.488094      0.294030  0.617568          0.000000  0.233934   \n",
       "3        2      0.013635      0.334328  0.986074          0.000385  0.052479   \n",
       "4        3      0.325756      0.631343  0.552223          0.000000  0.058928   \n",
       "\n",
       "   loudness  speechiness     tempo   valence  \n",
       "0  0.166586     0.058256  0.227774  0.018168  \n",
       "1  0.808895     0.146846  0.344210  0.514083  \n",
       "2  0.570151     0.348501  0.085513  0.600086  \n",
       "3  0.714468     0.156153  0.659440  0.460331  \n",
       "4  0.544476     0.067908  0.337131  0.876371  "
      ]
     },
     "execution_count": 1605,
     "metadata": {},
     "output_type": "execute_result"
    }
   ],
   "source": [
    "from sklearn.preprocessing import MinMaxScaler\n",
    "\n",
    "def make_normalized_df(df, col_sep):\n",
    "    non_features = df[df.columns[:col_sep]]\n",
    "    features = df[df.columns[col_sep:]]\n",
    "    norm = MinMaxScaler().fit_transform(features)\n",
    "    scaled = pd.DataFrame(norm, index=df.index, columns = df.columns[col_sep:])\n",
    "    return pd.concat([non_features, scaled], axis=1)\n",
    "\n",
    "cluster_labels = df['Cluster']\n",
    "orig = df.drop(columns=['playlist', 'Cluster'])\n",
    "values_df = make_normalized_df(orig, 3)\n",
    "values_df.insert(3, 'cluster', cluster_labels)\n",
    "values_df.head()"
   ]
  },
  {
   "cell_type": "code",
   "execution_count": 1606,
   "id": "bdee9202",
   "metadata": {},
   "outputs": [
    {
     "data": {
      "application/vnd.plotly.v1+json": {
       "config": {
        "plotlyServerURL": "https://plot.ly"
       },
       "data": [
        {
         "fill": "toself",
         "name": "Cluster 0",
         "r": [
          0.04905547052534026,
          0.5360696517412936,
          0.8746652383502945,
          3.839437097321126e-05,
          0.25355792750722705,
          0.8549221221708446,
          0.6616109387567506,
          0.6517925755157533,
          0.5011825413889487,
          0.04905547052534026
         ],
         "subplot": "polar",
         "theta": [
          "A",
          "D",
          "E",
          "I",
          "Li",
          "Lo",
          "S",
          "T",
          "V",
          "A"
         ],
         "type": "scatterpolar"
        },
        {
         "fill": "toself",
         "name": "Cluster 1",
         "r": [
          0.6746439376303841,
          0.48951396861844626,
          0.35007484927142135,
          0.01744698985314448,
          0.1028862546540999,
          0.5216691315498811,
          0.049876700342057094,
          0.3150678728573745,
          0.3174310459840453,
          0.6746439376303841
         ],
         "subplot": "polar2",
         "theta": [
          "A",
          "D",
          "E",
          "I",
          "Li",
          "Lo",
          "S",
          "T",
          "V",
          "A"
         ],
         "type": "scatterpolar"
        },
        {
         "fill": "toself",
         "name": "Cluster 2",
         "r": [
          0.07402024647020995,
          0.4381202097620009,
          0.8101014780179217,
          0.002286022380467955,
          0.2654382200746445,
          0.8169558582676131,
          0.07048827524525561,
          0.4763643320568308,
          0.44864516204013105,
          0.07402024647020995
         ],
         "subplot": "polar3",
         "theta": [
          "A",
          "D",
          "E",
          "I",
          "Li",
          "Lo",
          "S",
          "T",
          "V",
          "A"
         ],
         "type": "scatterpolar"
        },
        {
         "fill": "toself",
         "name": "Cluster 3",
         "r": [
          0.18229655199225947,
          0.7402132196162049,
          0.6726604942994874,
          0.0015855227437872404,
          0.07778201340576257,
          0.7191808921183463,
          0.07114788004136503,
          0.3817776285900067,
          0.6942900144362194,
          0.18229655199225947
         ],
         "subplot": "polar4",
         "theta": [
          "A",
          "D",
          "E",
          "I",
          "Li",
          "Lo",
          "S",
          "T",
          "V",
          "A"
         ],
         "type": "scatterpolar"
        },
        {
         "fill": "toself",
         "name": "Cluster 4",
         "r": [
          0.7121206949354476,
          0.28171641791044777,
          0.3765399035886449,
          0.6912512716174976,
          0.10968423393373361,
          0.4329064249209053,
          0.03628059289900033,
          0.2538940119406514,
          0.0703612126424425,
          0.7121206949354476
         ],
         "subplot": "polar5",
         "theta": [
          "A",
          "D",
          "E",
          "I",
          "Li",
          "Lo",
          "S",
          "T",
          "V",
          "A"
         ],
         "type": "scatterpolar"
        }
       ],
       "layout": {
        "polar": {
         "domain": {
          "x": [
           0,
           0.2125
          ],
          "y": [
           0.575,
           1
          ]
         },
         "radialaxis": {
          "range": [
           0,
           1
          ],
          "visible": true
         }
        },
        "polar2": {
         "domain": {
          "x": [
           0.2625,
           0.475
          ],
          "y": [
           0.575,
           1
          ]
         },
         "radialaxis": {
          "range": [
           0,
           1
          ],
          "visible": true
         }
        },
        "polar3": {
         "domain": {
          "x": [
           0.525,
           0.7375
          ],
          "y": [
           0.575,
           1
          ]
         },
         "radialaxis": {
          "range": [
           0,
           1
          ],
          "visible": true
         }
        },
        "polar4": {
         "domain": {
          "x": [
           0.7875,
           1
          ],
          "y": [
           0.575,
           1
          ]
         },
         "radialaxis": {
          "range": [
           0,
           1
          ],
          "visible": true
         }
        },
        "polar5": {
         "domain": {
          "x": [
           0,
           0.2125
          ],
          "y": [
           0,
           0.425
          ]
         },
         "radialaxis": {
          "range": [
           0,
           1
          ],
          "visible": true
         }
        },
        "polar6": {
         "domain": {
          "x": [
           0.2625,
           0.475
          ],
          "y": [
           0,
           0.425
          ]
         },
         "radialaxis": {
          "range": [
           0,
           1
          ],
          "visible": true
         }
        },
        "polar7": {
         "domain": {
          "x": [
           0.525,
           0.7375
          ],
          "y": [
           0,
           0.425
          ]
         },
         "radialaxis": {
          "range": [
           0,
           1
          ],
          "visible": true
         }
        },
        "polar8": {
         "domain": {
          "x": [
           0.7875,
           1
          ],
          "y": [
           0,
           0.425
          ]
         },
         "radialaxis": {
          "range": [
           0,
           1
          ],
          "visible": true
         }
        },
        "showlegend": true,
        "template": {
         "data": {
          "bar": [
           {
            "error_x": {
             "color": "#2a3f5f"
            },
            "error_y": {
             "color": "#2a3f5f"
            },
            "marker": {
             "line": {
              "color": "#E5ECF6",
              "width": 0.5
             }
            },
            "type": "bar"
           }
          ],
          "barpolar": [
           {
            "marker": {
             "line": {
              "color": "#E5ECF6",
              "width": 0.5
             }
            },
            "type": "barpolar"
           }
          ],
          "carpet": [
           {
            "aaxis": {
             "endlinecolor": "#2a3f5f",
             "gridcolor": "white",
             "linecolor": "white",
             "minorgridcolor": "white",
             "startlinecolor": "#2a3f5f"
            },
            "baxis": {
             "endlinecolor": "#2a3f5f",
             "gridcolor": "white",
             "linecolor": "white",
             "minorgridcolor": "white",
             "startlinecolor": "#2a3f5f"
            },
            "type": "carpet"
           }
          ],
          "choropleth": [
           {
            "colorbar": {
             "outlinewidth": 0,
             "ticks": ""
            },
            "type": "choropleth"
           }
          ],
          "contour": [
           {
            "colorbar": {
             "outlinewidth": 0,
             "ticks": ""
            },
            "colorscale": [
             [
              0,
              "#0d0887"
             ],
             [
              0.1111111111111111,
              "#46039f"
             ],
             [
              0.2222222222222222,
              "#7201a8"
             ],
             [
              0.3333333333333333,
              "#9c179e"
             ],
             [
              0.4444444444444444,
              "#bd3786"
             ],
             [
              0.5555555555555556,
              "#d8576b"
             ],
             [
              0.6666666666666666,
              "#ed7953"
             ],
             [
              0.7777777777777778,
              "#fb9f3a"
             ],
             [
              0.8888888888888888,
              "#fdca26"
             ],
             [
              1,
              "#f0f921"
             ]
            ],
            "type": "contour"
           }
          ],
          "contourcarpet": [
           {
            "colorbar": {
             "outlinewidth": 0,
             "ticks": ""
            },
            "type": "contourcarpet"
           }
          ],
          "heatmap": [
           {
            "colorbar": {
             "outlinewidth": 0,
             "ticks": ""
            },
            "colorscale": [
             [
              0,
              "#0d0887"
             ],
             [
              0.1111111111111111,
              "#46039f"
             ],
             [
              0.2222222222222222,
              "#7201a8"
             ],
             [
              0.3333333333333333,
              "#9c179e"
             ],
             [
              0.4444444444444444,
              "#bd3786"
             ],
             [
              0.5555555555555556,
              "#d8576b"
             ],
             [
              0.6666666666666666,
              "#ed7953"
             ],
             [
              0.7777777777777778,
              "#fb9f3a"
             ],
             [
              0.8888888888888888,
              "#fdca26"
             ],
             [
              1,
              "#f0f921"
             ]
            ],
            "type": "heatmap"
           }
          ],
          "heatmapgl": [
           {
            "colorbar": {
             "outlinewidth": 0,
             "ticks": ""
            },
            "colorscale": [
             [
              0,
              "#0d0887"
             ],
             [
              0.1111111111111111,
              "#46039f"
             ],
             [
              0.2222222222222222,
              "#7201a8"
             ],
             [
              0.3333333333333333,
              "#9c179e"
             ],
             [
              0.4444444444444444,
              "#bd3786"
             ],
             [
              0.5555555555555556,
              "#d8576b"
             ],
             [
              0.6666666666666666,
              "#ed7953"
             ],
             [
              0.7777777777777778,
              "#fb9f3a"
             ],
             [
              0.8888888888888888,
              "#fdca26"
             ],
             [
              1,
              "#f0f921"
             ]
            ],
            "type": "heatmapgl"
           }
          ],
          "histogram": [
           {
            "marker": {
             "colorbar": {
              "outlinewidth": 0,
              "ticks": ""
             }
            },
            "type": "histogram"
           }
          ],
          "histogram2d": [
           {
            "colorbar": {
             "outlinewidth": 0,
             "ticks": ""
            },
            "colorscale": [
             [
              0,
              "#0d0887"
             ],
             [
              0.1111111111111111,
              "#46039f"
             ],
             [
              0.2222222222222222,
              "#7201a8"
             ],
             [
              0.3333333333333333,
              "#9c179e"
             ],
             [
              0.4444444444444444,
              "#bd3786"
             ],
             [
              0.5555555555555556,
              "#d8576b"
             ],
             [
              0.6666666666666666,
              "#ed7953"
             ],
             [
              0.7777777777777778,
              "#fb9f3a"
             ],
             [
              0.8888888888888888,
              "#fdca26"
             ],
             [
              1,
              "#f0f921"
             ]
            ],
            "type": "histogram2d"
           }
          ],
          "histogram2dcontour": [
           {
            "colorbar": {
             "outlinewidth": 0,
             "ticks": ""
            },
            "colorscale": [
             [
              0,
              "#0d0887"
             ],
             [
              0.1111111111111111,
              "#46039f"
             ],
             [
              0.2222222222222222,
              "#7201a8"
             ],
             [
              0.3333333333333333,
              "#9c179e"
             ],
             [
              0.4444444444444444,
              "#bd3786"
             ],
             [
              0.5555555555555556,
              "#d8576b"
             ],
             [
              0.6666666666666666,
              "#ed7953"
             ],
             [
              0.7777777777777778,
              "#fb9f3a"
             ],
             [
              0.8888888888888888,
              "#fdca26"
             ],
             [
              1,
              "#f0f921"
             ]
            ],
            "type": "histogram2dcontour"
           }
          ],
          "mesh3d": [
           {
            "colorbar": {
             "outlinewidth": 0,
             "ticks": ""
            },
            "type": "mesh3d"
           }
          ],
          "parcoords": [
           {
            "line": {
             "colorbar": {
              "outlinewidth": 0,
              "ticks": ""
             }
            },
            "type": "parcoords"
           }
          ],
          "pie": [
           {
            "automargin": true,
            "type": "pie"
           }
          ],
          "scatter": [
           {
            "marker": {
             "colorbar": {
              "outlinewidth": 0,
              "ticks": ""
             }
            },
            "type": "scatter"
           }
          ],
          "scatter3d": [
           {
            "line": {
             "colorbar": {
              "outlinewidth": 0,
              "ticks": ""
             }
            },
            "marker": {
             "colorbar": {
              "outlinewidth": 0,
              "ticks": ""
             }
            },
            "type": "scatter3d"
           }
          ],
          "scattercarpet": [
           {
            "marker": {
             "colorbar": {
              "outlinewidth": 0,
              "ticks": ""
             }
            },
            "type": "scattercarpet"
           }
          ],
          "scattergeo": [
           {
            "marker": {
             "colorbar": {
              "outlinewidth": 0,
              "ticks": ""
             }
            },
            "type": "scattergeo"
           }
          ],
          "scattergl": [
           {
            "marker": {
             "colorbar": {
              "outlinewidth": 0,
              "ticks": ""
             }
            },
            "type": "scattergl"
           }
          ],
          "scattermapbox": [
           {
            "marker": {
             "colorbar": {
              "outlinewidth": 0,
              "ticks": ""
             }
            },
            "type": "scattermapbox"
           }
          ],
          "scatterpolar": [
           {
            "marker": {
             "colorbar": {
              "outlinewidth": 0,
              "ticks": ""
             }
            },
            "type": "scatterpolar"
           }
          ],
          "scatterpolargl": [
           {
            "marker": {
             "colorbar": {
              "outlinewidth": 0,
              "ticks": ""
             }
            },
            "type": "scatterpolargl"
           }
          ],
          "scatterternary": [
           {
            "marker": {
             "colorbar": {
              "outlinewidth": 0,
              "ticks": ""
             }
            },
            "type": "scatterternary"
           }
          ],
          "surface": [
           {
            "colorbar": {
             "outlinewidth": 0,
             "ticks": ""
            },
            "colorscale": [
             [
              0,
              "#0d0887"
             ],
             [
              0.1111111111111111,
              "#46039f"
             ],
             [
              0.2222222222222222,
              "#7201a8"
             ],
             [
              0.3333333333333333,
              "#9c179e"
             ],
             [
              0.4444444444444444,
              "#bd3786"
             ],
             [
              0.5555555555555556,
              "#d8576b"
             ],
             [
              0.6666666666666666,
              "#ed7953"
             ],
             [
              0.7777777777777778,
              "#fb9f3a"
             ],
             [
              0.8888888888888888,
              "#fdca26"
             ],
             [
              1,
              "#f0f921"
             ]
            ],
            "type": "surface"
           }
          ],
          "table": [
           {
            "cells": {
             "fill": {
              "color": "#EBF0F8"
             },
             "line": {
              "color": "white"
             }
            },
            "header": {
             "fill": {
              "color": "#C8D4E3"
             },
             "line": {
              "color": "white"
             }
            },
            "type": "table"
           }
          ]
         },
         "layout": {
          "annotationdefaults": {
           "arrowcolor": "#2a3f5f",
           "arrowhead": 0,
           "arrowwidth": 1
          },
          "autotypenumbers": "strict",
          "coloraxis": {
           "colorbar": {
            "outlinewidth": 0,
            "ticks": ""
           }
          },
          "colorscale": {
           "diverging": [
            [
             0,
             "#8e0152"
            ],
            [
             0.1,
             "#c51b7d"
            ],
            [
             0.2,
             "#de77ae"
            ],
            [
             0.3,
             "#f1b6da"
            ],
            [
             0.4,
             "#fde0ef"
            ],
            [
             0.5,
             "#f7f7f7"
            ],
            [
             0.6,
             "#e6f5d0"
            ],
            [
             0.7,
             "#b8e186"
            ],
            [
             0.8,
             "#7fbc41"
            ],
            [
             0.9,
             "#4d9221"
            ],
            [
             1,
             "#276419"
            ]
           ],
           "sequential": [
            [
             0,
             "#0d0887"
            ],
            [
             0.1111111111111111,
             "#46039f"
            ],
            [
             0.2222222222222222,
             "#7201a8"
            ],
            [
             0.3333333333333333,
             "#9c179e"
            ],
            [
             0.4444444444444444,
             "#bd3786"
            ],
            [
             0.5555555555555556,
             "#d8576b"
            ],
            [
             0.6666666666666666,
             "#ed7953"
            ],
            [
             0.7777777777777778,
             "#fb9f3a"
            ],
            [
             0.8888888888888888,
             "#fdca26"
            ],
            [
             1,
             "#f0f921"
            ]
           ],
           "sequentialminus": [
            [
             0,
             "#0d0887"
            ],
            [
             0.1111111111111111,
             "#46039f"
            ],
            [
             0.2222222222222222,
             "#7201a8"
            ],
            [
             0.3333333333333333,
             "#9c179e"
            ],
            [
             0.4444444444444444,
             "#bd3786"
            ],
            [
             0.5555555555555556,
             "#d8576b"
            ],
            [
             0.6666666666666666,
             "#ed7953"
            ],
            [
             0.7777777777777778,
             "#fb9f3a"
            ],
            [
             0.8888888888888888,
             "#fdca26"
            ],
            [
             1,
             "#f0f921"
            ]
           ]
          },
          "colorway": [
           "#636efa",
           "#EF553B",
           "#00cc96",
           "#ab63fa",
           "#FFA15A",
           "#19d3f3",
           "#FF6692",
           "#B6E880",
           "#FF97FF",
           "#FECB52"
          ],
          "font": {
           "color": "#2a3f5f"
          },
          "geo": {
           "bgcolor": "white",
           "lakecolor": "white",
           "landcolor": "#E5ECF6",
           "showlakes": true,
           "showland": true,
           "subunitcolor": "white"
          },
          "hoverlabel": {
           "align": "left"
          },
          "hovermode": "closest",
          "mapbox": {
           "style": "light"
          },
          "paper_bgcolor": "white",
          "plot_bgcolor": "#E5ECF6",
          "polar": {
           "angularaxis": {
            "gridcolor": "white",
            "linecolor": "white",
            "ticks": ""
           },
           "bgcolor": "#E5ECF6",
           "radialaxis": {
            "gridcolor": "white",
            "linecolor": "white",
            "ticks": ""
           }
          },
          "scene": {
           "xaxis": {
            "backgroundcolor": "#E5ECF6",
            "gridcolor": "white",
            "gridwidth": 2,
            "linecolor": "white",
            "showbackground": true,
            "ticks": "",
            "zerolinecolor": "white"
           },
           "yaxis": {
            "backgroundcolor": "#E5ECF6",
            "gridcolor": "white",
            "gridwidth": 2,
            "linecolor": "white",
            "showbackground": true,
            "ticks": "",
            "zerolinecolor": "white"
           },
           "zaxis": {
            "backgroundcolor": "#E5ECF6",
            "gridcolor": "white",
            "gridwidth": 2,
            "linecolor": "white",
            "showbackground": true,
            "ticks": "",
            "zerolinecolor": "white"
           }
          },
          "shapedefaults": {
           "line": {
            "color": "#2a3f5f"
           }
          },
          "ternary": {
           "aaxis": {
            "gridcolor": "white",
            "linecolor": "white",
            "ticks": ""
           },
           "baxis": {
            "gridcolor": "white",
            "linecolor": "white",
            "ticks": ""
           },
           "bgcolor": "#E5ECF6",
           "caxis": {
            "gridcolor": "white",
            "linecolor": "white",
            "ticks": ""
           }
          },
          "title": {
           "x": 0.05
          },
          "xaxis": {
           "automargin": true,
           "gridcolor": "white",
           "linecolor": "white",
           "ticks": "",
           "title": {
            "standoff": 15
           },
           "zerolinecolor": "white",
           "zerolinewidth": 2
          },
          "yaxis": {
           "automargin": true,
           "gridcolor": "white",
           "linecolor": "white",
           "ticks": "",
           "title": {
            "standoff": 15
           },
           "zerolinecolor": "white",
           "zerolinewidth": 2
          }
         }
        }
       }
      },
      "text/html": [
       "<div>                            <div id=\"9cbf74bf-23bb-4a7e-af32-a2baee731f3a\" class=\"plotly-graph-div\" style=\"height:525px; width:100%;\"></div>            <script type=\"text/javascript\">                require([\"plotly\"], function(Plotly) {                    window.PLOTLYENV=window.PLOTLYENV || {};                                    if (document.getElementById(\"9cbf74bf-23bb-4a7e-af32-a2baee731f3a\")) {                    Plotly.newPlot(                        \"9cbf74bf-23bb-4a7e-af32-a2baee731f3a\",                        [{\"fill\": \"toself\", \"name\": \"Cluster 0\", \"r\": [0.04905547052534026, 0.5360696517412936, 0.8746652383502945, 3.839437097321126e-05, 0.25355792750722705, 0.8549221221708446, 0.6616109387567506, 0.6517925755157533, 0.5011825413889487, 0.04905547052534026], \"subplot\": \"polar\", \"theta\": [\"A\", \"D\", \"E\", \"I\", \"Li\", \"Lo\", \"S\", \"T\", \"V\", \"A\"], \"type\": \"scatterpolar\"}, {\"fill\": \"toself\", \"name\": \"Cluster 1\", \"r\": [0.6746439376303841, 0.48951396861844626, 0.35007484927142135, 0.01744698985314448, 0.1028862546540999, 0.5216691315498811, 0.049876700342057094, 0.3150678728573745, 0.3174310459840453, 0.6746439376303841], \"subplot\": \"polar2\", \"theta\": [\"A\", \"D\", \"E\", \"I\", \"Li\", \"Lo\", \"S\", \"T\", \"V\", \"A\"], \"type\": \"scatterpolar\"}, {\"fill\": \"toself\", \"name\": \"Cluster 2\", \"r\": [0.07402024647020995, 0.4381202097620009, 0.8101014780179217, 0.002286022380467955, 0.2654382200746445, 0.8169558582676131, 0.07048827524525561, 0.4763643320568308, 0.44864516204013105, 0.07402024647020995], \"subplot\": \"polar3\", \"theta\": [\"A\", \"D\", \"E\", \"I\", \"Li\", \"Lo\", \"S\", \"T\", \"V\", \"A\"], \"type\": \"scatterpolar\"}, {\"fill\": \"toself\", \"name\": \"Cluster 3\", \"r\": [0.18229655199225947, 0.7402132196162049, 0.6726604942994874, 0.0015855227437872404, 0.07778201340576257, 0.7191808921183463, 0.07114788004136503, 0.3817776285900067, 0.6942900144362194, 0.18229655199225947], \"subplot\": \"polar4\", \"theta\": [\"A\", \"D\", \"E\", \"I\", \"Li\", \"Lo\", \"S\", \"T\", \"V\", \"A\"], \"type\": \"scatterpolar\"}, {\"fill\": \"toself\", \"name\": \"Cluster 4\", \"r\": [0.7121206949354476, 0.28171641791044777, 0.3765399035886449, 0.6912512716174976, 0.10968423393373361, 0.4329064249209053, 0.03628059289900033, 0.2538940119406514, 0.0703612126424425, 0.7121206949354476], \"subplot\": \"polar5\", \"theta\": [\"A\", \"D\", \"E\", \"I\", \"Li\", \"Lo\", \"S\", \"T\", \"V\", \"A\"], \"type\": \"scatterpolar\"}],                        {\"polar\": {\"domain\": {\"x\": [0.0, 0.2125], \"y\": [0.575, 1.0]}, \"radialaxis\": {\"range\": [0, 1], \"visible\": true}}, \"polar2\": {\"domain\": {\"x\": [0.2625, 0.475], \"y\": [0.575, 1.0]}, \"radialaxis\": {\"range\": [0, 1], \"visible\": true}}, \"polar3\": {\"domain\": {\"x\": [0.525, 0.7375], \"y\": [0.575, 1.0]}, \"radialaxis\": {\"range\": [0, 1], \"visible\": true}}, \"polar4\": {\"domain\": {\"x\": [0.7875, 1.0], \"y\": [0.575, 1.0]}, \"radialaxis\": {\"range\": [0, 1], \"visible\": true}}, \"polar5\": {\"domain\": {\"x\": [0.0, 0.2125], \"y\": [0.0, 0.425]}, \"radialaxis\": {\"range\": [0, 1], \"visible\": true}}, \"polar6\": {\"domain\": {\"x\": [0.2625, 0.475], \"y\": [0.0, 0.425]}, \"radialaxis\": {\"range\": [0, 1], \"visible\": true}}, \"polar7\": {\"domain\": {\"x\": [0.525, 0.7375], \"y\": [0.0, 0.425]}, \"radialaxis\": {\"range\": [0, 1], \"visible\": true}}, \"polar8\": {\"domain\": {\"x\": [0.7875, 1.0], \"y\": [0.0, 0.425]}, \"radialaxis\": {\"range\": [0, 1], \"visible\": true}}, \"showlegend\": true, \"template\": {\"data\": {\"bar\": [{\"error_x\": {\"color\": \"#2a3f5f\"}, \"error_y\": {\"color\": \"#2a3f5f\"}, \"marker\": {\"line\": {\"color\": \"#E5ECF6\", \"width\": 0.5}}, \"type\": \"bar\"}], \"barpolar\": [{\"marker\": {\"line\": {\"color\": \"#E5ECF6\", \"width\": 0.5}}, \"type\": \"barpolar\"}], \"carpet\": [{\"aaxis\": {\"endlinecolor\": \"#2a3f5f\", \"gridcolor\": \"white\", \"linecolor\": \"white\", \"minorgridcolor\": \"white\", \"startlinecolor\": \"#2a3f5f\"}, \"baxis\": {\"endlinecolor\": \"#2a3f5f\", \"gridcolor\": \"white\", \"linecolor\": \"white\", \"minorgridcolor\": \"white\", \"startlinecolor\": \"#2a3f5f\"}, \"type\": \"carpet\"}], \"choropleth\": [{\"colorbar\": {\"outlinewidth\": 0, \"ticks\": \"\"}, \"type\": \"choropleth\"}], \"contour\": [{\"colorbar\": {\"outlinewidth\": 0, \"ticks\": \"\"}, \"colorscale\": [[0.0, \"#0d0887\"], [0.1111111111111111, \"#46039f\"], [0.2222222222222222, \"#7201a8\"], [0.3333333333333333, \"#9c179e\"], [0.4444444444444444, \"#bd3786\"], [0.5555555555555556, \"#d8576b\"], [0.6666666666666666, \"#ed7953\"], [0.7777777777777778, \"#fb9f3a\"], [0.8888888888888888, \"#fdca26\"], [1.0, \"#f0f921\"]], \"type\": \"contour\"}], \"contourcarpet\": [{\"colorbar\": {\"outlinewidth\": 0, \"ticks\": \"\"}, \"type\": \"contourcarpet\"}], \"heatmap\": [{\"colorbar\": {\"outlinewidth\": 0, \"ticks\": \"\"}, \"colorscale\": [[0.0, \"#0d0887\"], [0.1111111111111111, \"#46039f\"], [0.2222222222222222, \"#7201a8\"], [0.3333333333333333, \"#9c179e\"], [0.4444444444444444, \"#bd3786\"], [0.5555555555555556, \"#d8576b\"], [0.6666666666666666, \"#ed7953\"], [0.7777777777777778, \"#fb9f3a\"], [0.8888888888888888, \"#fdca26\"], [1.0, \"#f0f921\"]], \"type\": \"heatmap\"}], \"heatmapgl\": [{\"colorbar\": {\"outlinewidth\": 0, \"ticks\": \"\"}, \"colorscale\": [[0.0, \"#0d0887\"], [0.1111111111111111, \"#46039f\"], [0.2222222222222222, \"#7201a8\"], [0.3333333333333333, \"#9c179e\"], [0.4444444444444444, \"#bd3786\"], [0.5555555555555556, \"#d8576b\"], [0.6666666666666666, \"#ed7953\"], [0.7777777777777778, \"#fb9f3a\"], [0.8888888888888888, \"#fdca26\"], [1.0, \"#f0f921\"]], \"type\": \"heatmapgl\"}], \"histogram\": [{\"marker\": {\"colorbar\": {\"outlinewidth\": 0, \"ticks\": \"\"}}, \"type\": \"histogram\"}], \"histogram2d\": [{\"colorbar\": {\"outlinewidth\": 0, \"ticks\": \"\"}, \"colorscale\": [[0.0, \"#0d0887\"], [0.1111111111111111, \"#46039f\"], [0.2222222222222222, \"#7201a8\"], [0.3333333333333333, \"#9c179e\"], [0.4444444444444444, \"#bd3786\"], [0.5555555555555556, \"#d8576b\"], [0.6666666666666666, \"#ed7953\"], [0.7777777777777778, \"#fb9f3a\"], [0.8888888888888888, \"#fdca26\"], [1.0, \"#f0f921\"]], \"type\": \"histogram2d\"}], \"histogram2dcontour\": [{\"colorbar\": {\"outlinewidth\": 0, \"ticks\": \"\"}, \"colorscale\": [[0.0, \"#0d0887\"], [0.1111111111111111, \"#46039f\"], [0.2222222222222222, \"#7201a8\"], [0.3333333333333333, \"#9c179e\"], [0.4444444444444444, \"#bd3786\"], [0.5555555555555556, \"#d8576b\"], [0.6666666666666666, \"#ed7953\"], [0.7777777777777778, \"#fb9f3a\"], [0.8888888888888888, \"#fdca26\"], [1.0, \"#f0f921\"]], \"type\": \"histogram2dcontour\"}], \"mesh3d\": [{\"colorbar\": {\"outlinewidth\": 0, \"ticks\": \"\"}, \"type\": \"mesh3d\"}], \"parcoords\": [{\"line\": {\"colorbar\": {\"outlinewidth\": 0, \"ticks\": \"\"}}, \"type\": \"parcoords\"}], \"pie\": [{\"automargin\": true, \"type\": \"pie\"}], \"scatter\": [{\"marker\": {\"colorbar\": {\"outlinewidth\": 0, \"ticks\": \"\"}}, \"type\": \"scatter\"}], \"scatter3d\": [{\"line\": {\"colorbar\": {\"outlinewidth\": 0, \"ticks\": \"\"}}, \"marker\": {\"colorbar\": {\"outlinewidth\": 0, \"ticks\": \"\"}}, \"type\": \"scatter3d\"}], \"scattercarpet\": [{\"marker\": {\"colorbar\": {\"outlinewidth\": 0, \"ticks\": \"\"}}, \"type\": \"scattercarpet\"}], \"scattergeo\": [{\"marker\": {\"colorbar\": {\"outlinewidth\": 0, \"ticks\": \"\"}}, \"type\": \"scattergeo\"}], \"scattergl\": [{\"marker\": {\"colorbar\": {\"outlinewidth\": 0, \"ticks\": \"\"}}, \"type\": \"scattergl\"}], \"scattermapbox\": [{\"marker\": {\"colorbar\": {\"outlinewidth\": 0, \"ticks\": \"\"}}, \"type\": \"scattermapbox\"}], \"scatterpolar\": [{\"marker\": {\"colorbar\": {\"outlinewidth\": 0, \"ticks\": \"\"}}, \"type\": \"scatterpolar\"}], \"scatterpolargl\": [{\"marker\": {\"colorbar\": {\"outlinewidth\": 0, \"ticks\": \"\"}}, \"type\": \"scatterpolargl\"}], \"scatterternary\": [{\"marker\": {\"colorbar\": {\"outlinewidth\": 0, \"ticks\": \"\"}}, \"type\": \"scatterternary\"}], \"surface\": [{\"colorbar\": {\"outlinewidth\": 0, \"ticks\": \"\"}, \"colorscale\": [[0.0, \"#0d0887\"], [0.1111111111111111, \"#46039f\"], [0.2222222222222222, \"#7201a8\"], [0.3333333333333333, \"#9c179e\"], [0.4444444444444444, \"#bd3786\"], [0.5555555555555556, \"#d8576b\"], [0.6666666666666666, \"#ed7953\"], [0.7777777777777778, \"#fb9f3a\"], [0.8888888888888888, \"#fdca26\"], [1.0, \"#f0f921\"]], \"type\": \"surface\"}], \"table\": [{\"cells\": {\"fill\": {\"color\": \"#EBF0F8\"}, \"line\": {\"color\": \"white\"}}, \"header\": {\"fill\": {\"color\": \"#C8D4E3\"}, \"line\": {\"color\": \"white\"}}, \"type\": \"table\"}]}, \"layout\": {\"annotationdefaults\": {\"arrowcolor\": \"#2a3f5f\", \"arrowhead\": 0, \"arrowwidth\": 1}, \"autotypenumbers\": \"strict\", \"coloraxis\": {\"colorbar\": {\"outlinewidth\": 0, \"ticks\": \"\"}}, \"colorscale\": {\"diverging\": [[0, \"#8e0152\"], [0.1, \"#c51b7d\"], [0.2, \"#de77ae\"], [0.3, \"#f1b6da\"], [0.4, \"#fde0ef\"], [0.5, \"#f7f7f7\"], [0.6, \"#e6f5d0\"], [0.7, \"#b8e186\"], [0.8, \"#7fbc41\"], [0.9, \"#4d9221\"], [1, \"#276419\"]], \"sequential\": [[0.0, \"#0d0887\"], [0.1111111111111111, \"#46039f\"], [0.2222222222222222, \"#7201a8\"], [0.3333333333333333, \"#9c179e\"], [0.4444444444444444, \"#bd3786\"], [0.5555555555555556, \"#d8576b\"], [0.6666666666666666, \"#ed7953\"], [0.7777777777777778, \"#fb9f3a\"], [0.8888888888888888, \"#fdca26\"], [1.0, \"#f0f921\"]], \"sequentialminus\": [[0.0, \"#0d0887\"], [0.1111111111111111, \"#46039f\"], [0.2222222222222222, \"#7201a8\"], [0.3333333333333333, \"#9c179e\"], [0.4444444444444444, \"#bd3786\"], [0.5555555555555556, \"#d8576b\"], [0.6666666666666666, \"#ed7953\"], [0.7777777777777778, \"#fb9f3a\"], [0.8888888888888888, \"#fdca26\"], [1.0, \"#f0f921\"]]}, \"colorway\": [\"#636efa\", \"#EF553B\", \"#00cc96\", \"#ab63fa\", \"#FFA15A\", \"#19d3f3\", \"#FF6692\", \"#B6E880\", \"#FF97FF\", \"#FECB52\"], \"font\": {\"color\": \"#2a3f5f\"}, \"geo\": {\"bgcolor\": \"white\", \"lakecolor\": \"white\", \"landcolor\": \"#E5ECF6\", \"showlakes\": true, \"showland\": true, \"subunitcolor\": \"white\"}, \"hoverlabel\": {\"align\": \"left\"}, \"hovermode\": \"closest\", \"mapbox\": {\"style\": \"light\"}, \"paper_bgcolor\": \"white\", \"plot_bgcolor\": \"#E5ECF6\", \"polar\": {\"angularaxis\": {\"gridcolor\": \"white\", \"linecolor\": \"white\", \"ticks\": \"\"}, \"bgcolor\": \"#E5ECF6\", \"radialaxis\": {\"gridcolor\": \"white\", \"linecolor\": \"white\", \"ticks\": \"\"}}, \"scene\": {\"xaxis\": {\"backgroundcolor\": \"#E5ECF6\", \"gridcolor\": \"white\", \"gridwidth\": 2, \"linecolor\": \"white\", \"showbackground\": true, \"ticks\": \"\", \"zerolinecolor\": \"white\"}, \"yaxis\": {\"backgroundcolor\": \"#E5ECF6\", \"gridcolor\": \"white\", \"gridwidth\": 2, \"linecolor\": \"white\", \"showbackground\": true, \"ticks\": \"\", \"zerolinecolor\": \"white\"}, \"zaxis\": {\"backgroundcolor\": \"#E5ECF6\", \"gridcolor\": \"white\", \"gridwidth\": 2, \"linecolor\": \"white\", \"showbackground\": true, \"ticks\": \"\", \"zerolinecolor\": \"white\"}}, \"shapedefaults\": {\"line\": {\"color\": \"#2a3f5f\"}}, \"ternary\": {\"aaxis\": {\"gridcolor\": \"white\", \"linecolor\": \"white\", \"ticks\": \"\"}, \"baxis\": {\"gridcolor\": \"white\", \"linecolor\": \"white\", \"ticks\": \"\"}, \"bgcolor\": \"#E5ECF6\", \"caxis\": {\"gridcolor\": \"white\", \"linecolor\": \"white\", \"ticks\": \"\"}}, \"title\": {\"x\": 0.05}, \"xaxis\": {\"automargin\": true, \"gridcolor\": \"white\", \"linecolor\": \"white\", \"ticks\": \"\", \"title\": {\"standoff\": 15}, \"zerolinecolor\": \"white\", \"zerolinewidth\": 2}, \"yaxis\": {\"automargin\": true, \"gridcolor\": \"white\", \"linecolor\": \"white\", \"ticks\": \"\", \"title\": {\"standoff\": 15}, \"zerolinecolor\": \"white\", \"zerolinewidth\": 2}}}},                        {\"responsive\": true}                    ).then(function(){\n",
       "                            \n",
       "var gd = document.getElementById('9cbf74bf-23bb-4a7e-af32-a2baee731f3a');\n",
       "var x = new MutationObserver(function (mutations, observer) {{\n",
       "        var display = window.getComputedStyle(gd).display;\n",
       "        if (!display || display === 'none') {{\n",
       "            console.log([gd, 'removed!']);\n",
       "            Plotly.purge(gd);\n",
       "            observer.disconnect();\n",
       "        }}\n",
       "}});\n",
       "\n",
       "// Listen for the removal of the full notebook cells\n",
       "var notebookContainer = gd.closest('#notebook-container');\n",
       "if (notebookContainer) {{\n",
       "    x.observe(notebookContainer, {childList: true});\n",
       "}}\n",
       "\n",
       "// Listen for the clearing of the current output cell\n",
       "var outputEl = gd.closest('.output');\n",
       "if (outputEl) {{\n",
       "    x.observe(outputEl, {childList: true});\n",
       "}}\n",
       "\n",
       "                        })                };                });            </script>        </div>"
      ]
     },
     "metadata": {},
     "output_type": "display_data"
    }
   ],
   "source": [
    "from plotly.subplots import make_subplots\n",
    "import numpy as np\n",
    "import plotly.graph_objects as go\n",
    "\n",
    "fig = make_subplots(rows=2, cols=4, specs=[[{'type': 'polar'}]*4]*2)\n",
    "\n",
    "angles = list(values_df.columns[4:])\n",
    "angles.append(angles[0])\n",
    "abbrev = [\"A\", \"D\", \"E\", \"I\", \"Li\", \"Lo\", \"S\", \"T\", \"V\", \"A\"]\n",
    "\n",
    "layoutdict = dict(\n",
    "            radialaxis=dict(\n",
    "            visible=True,\n",
    "            range=[0, 1]\n",
    "            ))\n",
    "\n",
    "for i in range(n_clusters):\n",
    "    subset = values_df[values_df['cluster'] == i]\n",
    "    data = [np.mean(subset[col]) for col in subset.columns[4:]]\n",
    "    data.append(data[0])\n",
    "    fig.add_trace(go.Scatterpolar(\n",
    "        r=data,\n",
    "        theta=abbrev,\n",
    "        fill='toself',\n",
    "        name=\"Cluster \" + str(i)),\n",
    "        i // 4 + 1,\n",
    "        i % 4 + 1)\n",
    "    \n",
    "fig.update_layout(\n",
    "        polar=layoutdict,\n",
    "        polar2=layoutdict,\n",
    "        polar3=layoutdict,\n",
    "        polar4=layoutdict,\n",
    "        polar5=layoutdict,\n",
    "        polar6=layoutdict,\n",
    "        polar7=layoutdict,\n",
    "        polar8=layoutdict,\n",
    "        showlegend=True\n",
    "        )\n",
    "fig.show()"
   ]
  },
  {
   "cell_type": "code",
   "execution_count": 1607,
   "id": "337abaea",
   "metadata": {},
   "outputs": [
    {
     "data": {
      "application/vnd.plotly.v1+json": {
       "config": {
        "plotlyServerURL": "https://plot.ly"
       },
       "data": [
        {
         "fill": "toself",
         "name": "Cluster 0",
         "r": [
          0.04905547052534026,
          0.5360696517412936,
          0.8746652383502945,
          3.839437097321126e-05,
          0.25355792750722705,
          0.8549221221708446,
          0.6616109387567506,
          0.6517925755157533,
          0.5011825413889487,
          0.04905547052534026
         ],
         "theta": [
          "acousticness",
          "danceability",
          "energy",
          "instrumentalness",
          "liveness",
          "loudness",
          "speechiness",
          "tempo",
          "valence",
          "acousticness"
         ],
         "type": "scatterpolar"
        },
        {
         "fill": "toself",
         "name": "Cluster 1",
         "r": [
          0.6746439376303841,
          0.48951396861844626,
          0.35007484927142135,
          0.01744698985314448,
          0.1028862546540999,
          0.5216691315498811,
          0.049876700342057094,
          0.3150678728573745,
          0.3174310459840453,
          0.6746439376303841
         ],
         "theta": [
          "acousticness",
          "danceability",
          "energy",
          "instrumentalness",
          "liveness",
          "loudness",
          "speechiness",
          "tempo",
          "valence",
          "acousticness"
         ],
         "type": "scatterpolar"
        },
        {
         "fill": "toself",
         "name": "Cluster 2",
         "r": [
          0.07402024647020995,
          0.4381202097620009,
          0.8101014780179217,
          0.002286022380467955,
          0.2654382200746445,
          0.8169558582676131,
          0.07048827524525561,
          0.4763643320568308,
          0.44864516204013105,
          0.07402024647020995
         ],
         "theta": [
          "acousticness",
          "danceability",
          "energy",
          "instrumentalness",
          "liveness",
          "loudness",
          "speechiness",
          "tempo",
          "valence",
          "acousticness"
         ],
         "type": "scatterpolar"
        },
        {
         "fill": "toself",
         "name": "Cluster 3",
         "r": [
          0.18229655199225947,
          0.7402132196162049,
          0.6726604942994874,
          0.0015855227437872404,
          0.07778201340576257,
          0.7191808921183463,
          0.07114788004136503,
          0.3817776285900067,
          0.6942900144362194,
          0.18229655199225947
         ],
         "theta": [
          "acousticness",
          "danceability",
          "energy",
          "instrumentalness",
          "liveness",
          "loudness",
          "speechiness",
          "tempo",
          "valence",
          "acousticness"
         ],
         "type": "scatterpolar"
        },
        {
         "fill": "toself",
         "name": "Cluster 4",
         "r": [
          0.7121206949354476,
          0.28171641791044777,
          0.3765399035886449,
          0.6912512716174976,
          0.10968423393373361,
          0.4329064249209053,
          0.03628059289900033,
          0.2538940119406514,
          0.0703612126424425,
          0.7121206949354476
         ],
         "theta": [
          "acousticness",
          "danceability",
          "energy",
          "instrumentalness",
          "liveness",
          "loudness",
          "speechiness",
          "tempo",
          "valence",
          "acousticness"
         ],
         "type": "scatterpolar"
        }
       ],
       "layout": {
        "polar": {
         "radialaxis": {
          "range": [
           0,
           1
          ],
          "visible": true
         }
        },
        "showlegend": true,
        "template": {
         "data": {
          "bar": [
           {
            "error_x": {
             "color": "#2a3f5f"
            },
            "error_y": {
             "color": "#2a3f5f"
            },
            "marker": {
             "line": {
              "color": "#E5ECF6",
              "width": 0.5
             }
            },
            "type": "bar"
           }
          ],
          "barpolar": [
           {
            "marker": {
             "line": {
              "color": "#E5ECF6",
              "width": 0.5
             }
            },
            "type": "barpolar"
           }
          ],
          "carpet": [
           {
            "aaxis": {
             "endlinecolor": "#2a3f5f",
             "gridcolor": "white",
             "linecolor": "white",
             "minorgridcolor": "white",
             "startlinecolor": "#2a3f5f"
            },
            "baxis": {
             "endlinecolor": "#2a3f5f",
             "gridcolor": "white",
             "linecolor": "white",
             "minorgridcolor": "white",
             "startlinecolor": "#2a3f5f"
            },
            "type": "carpet"
           }
          ],
          "choropleth": [
           {
            "colorbar": {
             "outlinewidth": 0,
             "ticks": ""
            },
            "type": "choropleth"
           }
          ],
          "contour": [
           {
            "colorbar": {
             "outlinewidth": 0,
             "ticks": ""
            },
            "colorscale": [
             [
              0,
              "#0d0887"
             ],
             [
              0.1111111111111111,
              "#46039f"
             ],
             [
              0.2222222222222222,
              "#7201a8"
             ],
             [
              0.3333333333333333,
              "#9c179e"
             ],
             [
              0.4444444444444444,
              "#bd3786"
             ],
             [
              0.5555555555555556,
              "#d8576b"
             ],
             [
              0.6666666666666666,
              "#ed7953"
             ],
             [
              0.7777777777777778,
              "#fb9f3a"
             ],
             [
              0.8888888888888888,
              "#fdca26"
             ],
             [
              1,
              "#f0f921"
             ]
            ],
            "type": "contour"
           }
          ],
          "contourcarpet": [
           {
            "colorbar": {
             "outlinewidth": 0,
             "ticks": ""
            },
            "type": "contourcarpet"
           }
          ],
          "heatmap": [
           {
            "colorbar": {
             "outlinewidth": 0,
             "ticks": ""
            },
            "colorscale": [
             [
              0,
              "#0d0887"
             ],
             [
              0.1111111111111111,
              "#46039f"
             ],
             [
              0.2222222222222222,
              "#7201a8"
             ],
             [
              0.3333333333333333,
              "#9c179e"
             ],
             [
              0.4444444444444444,
              "#bd3786"
             ],
             [
              0.5555555555555556,
              "#d8576b"
             ],
             [
              0.6666666666666666,
              "#ed7953"
             ],
             [
              0.7777777777777778,
              "#fb9f3a"
             ],
             [
              0.8888888888888888,
              "#fdca26"
             ],
             [
              1,
              "#f0f921"
             ]
            ],
            "type": "heatmap"
           }
          ],
          "heatmapgl": [
           {
            "colorbar": {
             "outlinewidth": 0,
             "ticks": ""
            },
            "colorscale": [
             [
              0,
              "#0d0887"
             ],
             [
              0.1111111111111111,
              "#46039f"
             ],
             [
              0.2222222222222222,
              "#7201a8"
             ],
             [
              0.3333333333333333,
              "#9c179e"
             ],
             [
              0.4444444444444444,
              "#bd3786"
             ],
             [
              0.5555555555555556,
              "#d8576b"
             ],
             [
              0.6666666666666666,
              "#ed7953"
             ],
             [
              0.7777777777777778,
              "#fb9f3a"
             ],
             [
              0.8888888888888888,
              "#fdca26"
             ],
             [
              1,
              "#f0f921"
             ]
            ],
            "type": "heatmapgl"
           }
          ],
          "histogram": [
           {
            "marker": {
             "colorbar": {
              "outlinewidth": 0,
              "ticks": ""
             }
            },
            "type": "histogram"
           }
          ],
          "histogram2d": [
           {
            "colorbar": {
             "outlinewidth": 0,
             "ticks": ""
            },
            "colorscale": [
             [
              0,
              "#0d0887"
             ],
             [
              0.1111111111111111,
              "#46039f"
             ],
             [
              0.2222222222222222,
              "#7201a8"
             ],
             [
              0.3333333333333333,
              "#9c179e"
             ],
             [
              0.4444444444444444,
              "#bd3786"
             ],
             [
              0.5555555555555556,
              "#d8576b"
             ],
             [
              0.6666666666666666,
              "#ed7953"
             ],
             [
              0.7777777777777778,
              "#fb9f3a"
             ],
             [
              0.8888888888888888,
              "#fdca26"
             ],
             [
              1,
              "#f0f921"
             ]
            ],
            "type": "histogram2d"
           }
          ],
          "histogram2dcontour": [
           {
            "colorbar": {
             "outlinewidth": 0,
             "ticks": ""
            },
            "colorscale": [
             [
              0,
              "#0d0887"
             ],
             [
              0.1111111111111111,
              "#46039f"
             ],
             [
              0.2222222222222222,
              "#7201a8"
             ],
             [
              0.3333333333333333,
              "#9c179e"
             ],
             [
              0.4444444444444444,
              "#bd3786"
             ],
             [
              0.5555555555555556,
              "#d8576b"
             ],
             [
              0.6666666666666666,
              "#ed7953"
             ],
             [
              0.7777777777777778,
              "#fb9f3a"
             ],
             [
              0.8888888888888888,
              "#fdca26"
             ],
             [
              1,
              "#f0f921"
             ]
            ],
            "type": "histogram2dcontour"
           }
          ],
          "mesh3d": [
           {
            "colorbar": {
             "outlinewidth": 0,
             "ticks": ""
            },
            "type": "mesh3d"
           }
          ],
          "parcoords": [
           {
            "line": {
             "colorbar": {
              "outlinewidth": 0,
              "ticks": ""
             }
            },
            "type": "parcoords"
           }
          ],
          "pie": [
           {
            "automargin": true,
            "type": "pie"
           }
          ],
          "scatter": [
           {
            "marker": {
             "colorbar": {
              "outlinewidth": 0,
              "ticks": ""
             }
            },
            "type": "scatter"
           }
          ],
          "scatter3d": [
           {
            "line": {
             "colorbar": {
              "outlinewidth": 0,
              "ticks": ""
             }
            },
            "marker": {
             "colorbar": {
              "outlinewidth": 0,
              "ticks": ""
             }
            },
            "type": "scatter3d"
           }
          ],
          "scattercarpet": [
           {
            "marker": {
             "colorbar": {
              "outlinewidth": 0,
              "ticks": ""
             }
            },
            "type": "scattercarpet"
           }
          ],
          "scattergeo": [
           {
            "marker": {
             "colorbar": {
              "outlinewidth": 0,
              "ticks": ""
             }
            },
            "type": "scattergeo"
           }
          ],
          "scattergl": [
           {
            "marker": {
             "colorbar": {
              "outlinewidth": 0,
              "ticks": ""
             }
            },
            "type": "scattergl"
           }
          ],
          "scattermapbox": [
           {
            "marker": {
             "colorbar": {
              "outlinewidth": 0,
              "ticks": ""
             }
            },
            "type": "scattermapbox"
           }
          ],
          "scatterpolar": [
           {
            "marker": {
             "colorbar": {
              "outlinewidth": 0,
              "ticks": ""
             }
            },
            "type": "scatterpolar"
           }
          ],
          "scatterpolargl": [
           {
            "marker": {
             "colorbar": {
              "outlinewidth": 0,
              "ticks": ""
             }
            },
            "type": "scatterpolargl"
           }
          ],
          "scatterternary": [
           {
            "marker": {
             "colorbar": {
              "outlinewidth": 0,
              "ticks": ""
             }
            },
            "type": "scatterternary"
           }
          ],
          "surface": [
           {
            "colorbar": {
             "outlinewidth": 0,
             "ticks": ""
            },
            "colorscale": [
             [
              0,
              "#0d0887"
             ],
             [
              0.1111111111111111,
              "#46039f"
             ],
             [
              0.2222222222222222,
              "#7201a8"
             ],
             [
              0.3333333333333333,
              "#9c179e"
             ],
             [
              0.4444444444444444,
              "#bd3786"
             ],
             [
              0.5555555555555556,
              "#d8576b"
             ],
             [
              0.6666666666666666,
              "#ed7953"
             ],
             [
              0.7777777777777778,
              "#fb9f3a"
             ],
             [
              0.8888888888888888,
              "#fdca26"
             ],
             [
              1,
              "#f0f921"
             ]
            ],
            "type": "surface"
           }
          ],
          "table": [
           {
            "cells": {
             "fill": {
              "color": "#EBF0F8"
             },
             "line": {
              "color": "white"
             }
            },
            "header": {
             "fill": {
              "color": "#C8D4E3"
             },
             "line": {
              "color": "white"
             }
            },
            "type": "table"
           }
          ]
         },
         "layout": {
          "annotationdefaults": {
           "arrowcolor": "#2a3f5f",
           "arrowhead": 0,
           "arrowwidth": 1
          },
          "autotypenumbers": "strict",
          "coloraxis": {
           "colorbar": {
            "outlinewidth": 0,
            "ticks": ""
           }
          },
          "colorscale": {
           "diverging": [
            [
             0,
             "#8e0152"
            ],
            [
             0.1,
             "#c51b7d"
            ],
            [
             0.2,
             "#de77ae"
            ],
            [
             0.3,
             "#f1b6da"
            ],
            [
             0.4,
             "#fde0ef"
            ],
            [
             0.5,
             "#f7f7f7"
            ],
            [
             0.6,
             "#e6f5d0"
            ],
            [
             0.7,
             "#b8e186"
            ],
            [
             0.8,
             "#7fbc41"
            ],
            [
             0.9,
             "#4d9221"
            ],
            [
             1,
             "#276419"
            ]
           ],
           "sequential": [
            [
             0,
             "#0d0887"
            ],
            [
             0.1111111111111111,
             "#46039f"
            ],
            [
             0.2222222222222222,
             "#7201a8"
            ],
            [
             0.3333333333333333,
             "#9c179e"
            ],
            [
             0.4444444444444444,
             "#bd3786"
            ],
            [
             0.5555555555555556,
             "#d8576b"
            ],
            [
             0.6666666666666666,
             "#ed7953"
            ],
            [
             0.7777777777777778,
             "#fb9f3a"
            ],
            [
             0.8888888888888888,
             "#fdca26"
            ],
            [
             1,
             "#f0f921"
            ]
           ],
           "sequentialminus": [
            [
             0,
             "#0d0887"
            ],
            [
             0.1111111111111111,
             "#46039f"
            ],
            [
             0.2222222222222222,
             "#7201a8"
            ],
            [
             0.3333333333333333,
             "#9c179e"
            ],
            [
             0.4444444444444444,
             "#bd3786"
            ],
            [
             0.5555555555555556,
             "#d8576b"
            ],
            [
             0.6666666666666666,
             "#ed7953"
            ],
            [
             0.7777777777777778,
             "#fb9f3a"
            ],
            [
             0.8888888888888888,
             "#fdca26"
            ],
            [
             1,
             "#f0f921"
            ]
           ]
          },
          "colorway": [
           "#636efa",
           "#EF553B",
           "#00cc96",
           "#ab63fa",
           "#FFA15A",
           "#19d3f3",
           "#FF6692",
           "#B6E880",
           "#FF97FF",
           "#FECB52"
          ],
          "font": {
           "color": "#2a3f5f"
          },
          "geo": {
           "bgcolor": "white",
           "lakecolor": "white",
           "landcolor": "#E5ECF6",
           "showlakes": true,
           "showland": true,
           "subunitcolor": "white"
          },
          "hoverlabel": {
           "align": "left"
          },
          "hovermode": "closest",
          "mapbox": {
           "style": "light"
          },
          "paper_bgcolor": "white",
          "plot_bgcolor": "#E5ECF6",
          "polar": {
           "angularaxis": {
            "gridcolor": "white",
            "linecolor": "white",
            "ticks": ""
           },
           "bgcolor": "#E5ECF6",
           "radialaxis": {
            "gridcolor": "white",
            "linecolor": "white",
            "ticks": ""
           }
          },
          "scene": {
           "xaxis": {
            "backgroundcolor": "#E5ECF6",
            "gridcolor": "white",
            "gridwidth": 2,
            "linecolor": "white",
            "showbackground": true,
            "ticks": "",
            "zerolinecolor": "white"
           },
           "yaxis": {
            "backgroundcolor": "#E5ECF6",
            "gridcolor": "white",
            "gridwidth": 2,
            "linecolor": "white",
            "showbackground": true,
            "ticks": "",
            "zerolinecolor": "white"
           },
           "zaxis": {
            "backgroundcolor": "#E5ECF6",
            "gridcolor": "white",
            "gridwidth": 2,
            "linecolor": "white",
            "showbackground": true,
            "ticks": "",
            "zerolinecolor": "white"
           }
          },
          "shapedefaults": {
           "line": {
            "color": "#2a3f5f"
           }
          },
          "ternary": {
           "aaxis": {
            "gridcolor": "white",
            "linecolor": "white",
            "ticks": ""
           },
           "baxis": {
            "gridcolor": "white",
            "linecolor": "white",
            "ticks": ""
           },
           "bgcolor": "#E5ECF6",
           "caxis": {
            "gridcolor": "white",
            "linecolor": "white",
            "ticks": ""
           }
          },
          "title": {
           "x": 0.05
          },
          "xaxis": {
           "automargin": true,
           "gridcolor": "white",
           "linecolor": "white",
           "ticks": "",
           "title": {
            "standoff": 15
           },
           "zerolinecolor": "white",
           "zerolinewidth": 2
          },
          "yaxis": {
           "automargin": true,
           "gridcolor": "white",
           "linecolor": "white",
           "ticks": "",
           "title": {
            "standoff": 15
           },
           "zerolinecolor": "white",
           "zerolinewidth": 2
          }
         }
        }
       }
      },
      "text/html": [
       "<div>                            <div id=\"9313b6c6-3307-45e3-b0bd-e678544f6a8e\" class=\"plotly-graph-div\" style=\"height:525px; width:100%;\"></div>            <script type=\"text/javascript\">                require([\"plotly\"], function(Plotly) {                    window.PLOTLYENV=window.PLOTLYENV || {};                                    if (document.getElementById(\"9313b6c6-3307-45e3-b0bd-e678544f6a8e\")) {                    Plotly.newPlot(                        \"9313b6c6-3307-45e3-b0bd-e678544f6a8e\",                        [{\"fill\": \"toself\", \"name\": \"Cluster 0\", \"r\": [0.04905547052534026, 0.5360696517412936, 0.8746652383502945, 3.839437097321126e-05, 0.25355792750722705, 0.8549221221708446, 0.6616109387567506, 0.6517925755157533, 0.5011825413889487, 0.04905547052534026], \"theta\": [\"acousticness\", \"danceability\", \"energy\", \"instrumentalness\", \"liveness\", \"loudness\", \"speechiness\", \"tempo\", \"valence\", \"acousticness\"], \"type\": \"scatterpolar\"}, {\"fill\": \"toself\", \"name\": \"Cluster 1\", \"r\": [0.6746439376303841, 0.48951396861844626, 0.35007484927142135, 0.01744698985314448, 0.1028862546540999, 0.5216691315498811, 0.049876700342057094, 0.3150678728573745, 0.3174310459840453, 0.6746439376303841], \"theta\": [\"acousticness\", \"danceability\", \"energy\", \"instrumentalness\", \"liveness\", \"loudness\", \"speechiness\", \"tempo\", \"valence\", \"acousticness\"], \"type\": \"scatterpolar\"}, {\"fill\": \"toself\", \"name\": \"Cluster 2\", \"r\": [0.07402024647020995, 0.4381202097620009, 0.8101014780179217, 0.002286022380467955, 0.2654382200746445, 0.8169558582676131, 0.07048827524525561, 0.4763643320568308, 0.44864516204013105, 0.07402024647020995], \"theta\": [\"acousticness\", \"danceability\", \"energy\", \"instrumentalness\", \"liveness\", \"loudness\", \"speechiness\", \"tempo\", \"valence\", \"acousticness\"], \"type\": \"scatterpolar\"}, {\"fill\": \"toself\", \"name\": \"Cluster 3\", \"r\": [0.18229655199225947, 0.7402132196162049, 0.6726604942994874, 0.0015855227437872404, 0.07778201340576257, 0.7191808921183463, 0.07114788004136503, 0.3817776285900067, 0.6942900144362194, 0.18229655199225947], \"theta\": [\"acousticness\", \"danceability\", \"energy\", \"instrumentalness\", \"liveness\", \"loudness\", \"speechiness\", \"tempo\", \"valence\", \"acousticness\"], \"type\": \"scatterpolar\"}, {\"fill\": \"toself\", \"name\": \"Cluster 4\", \"r\": [0.7121206949354476, 0.28171641791044777, 0.3765399035886449, 0.6912512716174976, 0.10968423393373361, 0.4329064249209053, 0.03628059289900033, 0.2538940119406514, 0.0703612126424425, 0.7121206949354476], \"theta\": [\"acousticness\", \"danceability\", \"energy\", \"instrumentalness\", \"liveness\", \"loudness\", \"speechiness\", \"tempo\", \"valence\", \"acousticness\"], \"type\": \"scatterpolar\"}],                        {\"polar\": {\"radialaxis\": {\"range\": [0, 1], \"visible\": true}}, \"showlegend\": true, \"template\": {\"data\": {\"bar\": [{\"error_x\": {\"color\": \"#2a3f5f\"}, \"error_y\": {\"color\": \"#2a3f5f\"}, \"marker\": {\"line\": {\"color\": \"#E5ECF6\", \"width\": 0.5}}, \"type\": \"bar\"}], \"barpolar\": [{\"marker\": {\"line\": {\"color\": \"#E5ECF6\", \"width\": 0.5}}, \"type\": \"barpolar\"}], \"carpet\": [{\"aaxis\": {\"endlinecolor\": \"#2a3f5f\", \"gridcolor\": \"white\", \"linecolor\": \"white\", \"minorgridcolor\": \"white\", \"startlinecolor\": \"#2a3f5f\"}, \"baxis\": {\"endlinecolor\": \"#2a3f5f\", \"gridcolor\": \"white\", \"linecolor\": \"white\", \"minorgridcolor\": \"white\", \"startlinecolor\": \"#2a3f5f\"}, \"type\": \"carpet\"}], \"choropleth\": [{\"colorbar\": {\"outlinewidth\": 0, \"ticks\": \"\"}, \"type\": \"choropleth\"}], \"contour\": [{\"colorbar\": {\"outlinewidth\": 0, \"ticks\": \"\"}, \"colorscale\": [[0.0, \"#0d0887\"], [0.1111111111111111, \"#46039f\"], [0.2222222222222222, \"#7201a8\"], [0.3333333333333333, \"#9c179e\"], [0.4444444444444444, \"#bd3786\"], [0.5555555555555556, \"#d8576b\"], [0.6666666666666666, \"#ed7953\"], [0.7777777777777778, \"#fb9f3a\"], [0.8888888888888888, \"#fdca26\"], [1.0, \"#f0f921\"]], \"type\": \"contour\"}], \"contourcarpet\": [{\"colorbar\": {\"outlinewidth\": 0, \"ticks\": \"\"}, \"type\": \"contourcarpet\"}], \"heatmap\": [{\"colorbar\": {\"outlinewidth\": 0, \"ticks\": \"\"}, \"colorscale\": [[0.0, \"#0d0887\"], [0.1111111111111111, \"#46039f\"], [0.2222222222222222, \"#7201a8\"], [0.3333333333333333, \"#9c179e\"], [0.4444444444444444, \"#bd3786\"], [0.5555555555555556, \"#d8576b\"], [0.6666666666666666, \"#ed7953\"], [0.7777777777777778, \"#fb9f3a\"], [0.8888888888888888, \"#fdca26\"], [1.0, \"#f0f921\"]], \"type\": \"heatmap\"}], \"heatmapgl\": [{\"colorbar\": {\"outlinewidth\": 0, \"ticks\": \"\"}, \"colorscale\": [[0.0, \"#0d0887\"], [0.1111111111111111, \"#46039f\"], [0.2222222222222222, \"#7201a8\"], [0.3333333333333333, \"#9c179e\"], [0.4444444444444444, \"#bd3786\"], [0.5555555555555556, \"#d8576b\"], [0.6666666666666666, \"#ed7953\"], [0.7777777777777778, \"#fb9f3a\"], [0.8888888888888888, \"#fdca26\"], [1.0, \"#f0f921\"]], \"type\": \"heatmapgl\"}], \"histogram\": [{\"marker\": {\"colorbar\": {\"outlinewidth\": 0, \"ticks\": \"\"}}, \"type\": \"histogram\"}], \"histogram2d\": [{\"colorbar\": {\"outlinewidth\": 0, \"ticks\": \"\"}, \"colorscale\": [[0.0, \"#0d0887\"], [0.1111111111111111, \"#46039f\"], [0.2222222222222222, \"#7201a8\"], [0.3333333333333333, \"#9c179e\"], [0.4444444444444444, \"#bd3786\"], [0.5555555555555556, \"#d8576b\"], [0.6666666666666666, \"#ed7953\"], [0.7777777777777778, \"#fb9f3a\"], [0.8888888888888888, \"#fdca26\"], [1.0, \"#f0f921\"]], \"type\": \"histogram2d\"}], \"histogram2dcontour\": [{\"colorbar\": {\"outlinewidth\": 0, \"ticks\": \"\"}, \"colorscale\": [[0.0, \"#0d0887\"], [0.1111111111111111, \"#46039f\"], [0.2222222222222222, \"#7201a8\"], [0.3333333333333333, \"#9c179e\"], [0.4444444444444444, \"#bd3786\"], [0.5555555555555556, \"#d8576b\"], [0.6666666666666666, \"#ed7953\"], [0.7777777777777778, \"#fb9f3a\"], [0.8888888888888888, \"#fdca26\"], [1.0, \"#f0f921\"]], \"type\": \"histogram2dcontour\"}], \"mesh3d\": [{\"colorbar\": {\"outlinewidth\": 0, \"ticks\": \"\"}, \"type\": \"mesh3d\"}], \"parcoords\": [{\"line\": {\"colorbar\": {\"outlinewidth\": 0, \"ticks\": \"\"}}, \"type\": \"parcoords\"}], \"pie\": [{\"automargin\": true, \"type\": \"pie\"}], \"scatter\": [{\"marker\": {\"colorbar\": {\"outlinewidth\": 0, \"ticks\": \"\"}}, \"type\": \"scatter\"}], \"scatter3d\": [{\"line\": {\"colorbar\": {\"outlinewidth\": 0, \"ticks\": \"\"}}, \"marker\": {\"colorbar\": {\"outlinewidth\": 0, \"ticks\": \"\"}}, \"type\": \"scatter3d\"}], \"scattercarpet\": [{\"marker\": {\"colorbar\": {\"outlinewidth\": 0, \"ticks\": \"\"}}, \"type\": \"scattercarpet\"}], \"scattergeo\": [{\"marker\": {\"colorbar\": {\"outlinewidth\": 0, \"ticks\": \"\"}}, \"type\": \"scattergeo\"}], \"scattergl\": [{\"marker\": {\"colorbar\": {\"outlinewidth\": 0, \"ticks\": \"\"}}, \"type\": \"scattergl\"}], \"scattermapbox\": [{\"marker\": {\"colorbar\": {\"outlinewidth\": 0, \"ticks\": \"\"}}, \"type\": \"scattermapbox\"}], \"scatterpolar\": [{\"marker\": {\"colorbar\": {\"outlinewidth\": 0, \"ticks\": \"\"}}, \"type\": \"scatterpolar\"}], \"scatterpolargl\": [{\"marker\": {\"colorbar\": {\"outlinewidth\": 0, \"ticks\": \"\"}}, \"type\": \"scatterpolargl\"}], \"scatterternary\": [{\"marker\": {\"colorbar\": {\"outlinewidth\": 0, \"ticks\": \"\"}}, \"type\": \"scatterternary\"}], \"surface\": [{\"colorbar\": {\"outlinewidth\": 0, \"ticks\": \"\"}, \"colorscale\": [[0.0, \"#0d0887\"], [0.1111111111111111, \"#46039f\"], [0.2222222222222222, \"#7201a8\"], [0.3333333333333333, \"#9c179e\"], [0.4444444444444444, \"#bd3786\"], [0.5555555555555556, \"#d8576b\"], [0.6666666666666666, \"#ed7953\"], [0.7777777777777778, \"#fb9f3a\"], [0.8888888888888888, \"#fdca26\"], [1.0, \"#f0f921\"]], \"type\": \"surface\"}], \"table\": [{\"cells\": {\"fill\": {\"color\": \"#EBF0F8\"}, \"line\": {\"color\": \"white\"}}, \"header\": {\"fill\": {\"color\": \"#C8D4E3\"}, \"line\": {\"color\": \"white\"}}, \"type\": \"table\"}]}, \"layout\": {\"annotationdefaults\": {\"arrowcolor\": \"#2a3f5f\", \"arrowhead\": 0, \"arrowwidth\": 1}, \"autotypenumbers\": \"strict\", \"coloraxis\": {\"colorbar\": {\"outlinewidth\": 0, \"ticks\": \"\"}}, \"colorscale\": {\"diverging\": [[0, \"#8e0152\"], [0.1, \"#c51b7d\"], [0.2, \"#de77ae\"], [0.3, \"#f1b6da\"], [0.4, \"#fde0ef\"], [0.5, \"#f7f7f7\"], [0.6, \"#e6f5d0\"], [0.7, \"#b8e186\"], [0.8, \"#7fbc41\"], [0.9, \"#4d9221\"], [1, \"#276419\"]], \"sequential\": [[0.0, \"#0d0887\"], [0.1111111111111111, \"#46039f\"], [0.2222222222222222, \"#7201a8\"], [0.3333333333333333, \"#9c179e\"], [0.4444444444444444, \"#bd3786\"], [0.5555555555555556, \"#d8576b\"], [0.6666666666666666, \"#ed7953\"], [0.7777777777777778, \"#fb9f3a\"], [0.8888888888888888, \"#fdca26\"], [1.0, \"#f0f921\"]], \"sequentialminus\": [[0.0, \"#0d0887\"], [0.1111111111111111, \"#46039f\"], [0.2222222222222222, \"#7201a8\"], [0.3333333333333333, \"#9c179e\"], [0.4444444444444444, \"#bd3786\"], [0.5555555555555556, \"#d8576b\"], [0.6666666666666666, \"#ed7953\"], [0.7777777777777778, \"#fb9f3a\"], [0.8888888888888888, \"#fdca26\"], [1.0, \"#f0f921\"]]}, \"colorway\": [\"#636efa\", \"#EF553B\", \"#00cc96\", \"#ab63fa\", \"#FFA15A\", \"#19d3f3\", \"#FF6692\", \"#B6E880\", \"#FF97FF\", \"#FECB52\"], \"font\": {\"color\": \"#2a3f5f\"}, \"geo\": {\"bgcolor\": \"white\", \"lakecolor\": \"white\", \"landcolor\": \"#E5ECF6\", \"showlakes\": true, \"showland\": true, \"subunitcolor\": \"white\"}, \"hoverlabel\": {\"align\": \"left\"}, \"hovermode\": \"closest\", \"mapbox\": {\"style\": \"light\"}, \"paper_bgcolor\": \"white\", \"plot_bgcolor\": \"#E5ECF6\", \"polar\": {\"angularaxis\": {\"gridcolor\": \"white\", \"linecolor\": \"white\", \"ticks\": \"\"}, \"bgcolor\": \"#E5ECF6\", \"radialaxis\": {\"gridcolor\": \"white\", \"linecolor\": \"white\", \"ticks\": \"\"}}, \"scene\": {\"xaxis\": {\"backgroundcolor\": \"#E5ECF6\", \"gridcolor\": \"white\", \"gridwidth\": 2, \"linecolor\": \"white\", \"showbackground\": true, \"ticks\": \"\", \"zerolinecolor\": \"white\"}, \"yaxis\": {\"backgroundcolor\": \"#E5ECF6\", \"gridcolor\": \"white\", \"gridwidth\": 2, \"linecolor\": \"white\", \"showbackground\": true, \"ticks\": \"\", \"zerolinecolor\": \"white\"}, \"zaxis\": {\"backgroundcolor\": \"#E5ECF6\", \"gridcolor\": \"white\", \"gridwidth\": 2, \"linecolor\": \"white\", \"showbackground\": true, \"ticks\": \"\", \"zerolinecolor\": \"white\"}}, \"shapedefaults\": {\"line\": {\"color\": \"#2a3f5f\"}}, \"ternary\": {\"aaxis\": {\"gridcolor\": \"white\", \"linecolor\": \"white\", \"ticks\": \"\"}, \"baxis\": {\"gridcolor\": \"white\", \"linecolor\": \"white\", \"ticks\": \"\"}, \"bgcolor\": \"#E5ECF6\", \"caxis\": {\"gridcolor\": \"white\", \"linecolor\": \"white\", \"ticks\": \"\"}}, \"title\": {\"x\": 0.05}, \"xaxis\": {\"automargin\": true, \"gridcolor\": \"white\", \"linecolor\": \"white\", \"ticks\": \"\", \"title\": {\"standoff\": 15}, \"zerolinecolor\": \"white\", \"zerolinewidth\": 2}, \"yaxis\": {\"automargin\": true, \"gridcolor\": \"white\", \"linecolor\": \"white\", \"ticks\": \"\", \"title\": {\"standoff\": 15}, \"zerolinecolor\": \"white\", \"zerolinewidth\": 2}}}},                        {\"responsive\": true}                    ).then(function(){\n",
       "                            \n",
       "var gd = document.getElementById('9313b6c6-3307-45e3-b0bd-e678544f6a8e');\n",
       "var x = new MutationObserver(function (mutations, observer) {{\n",
       "        var display = window.getComputedStyle(gd).display;\n",
       "        if (!display || display === 'none') {{\n",
       "            console.log([gd, 'removed!']);\n",
       "            Plotly.purge(gd);\n",
       "            observer.disconnect();\n",
       "        }}\n",
       "}});\n",
       "\n",
       "// Listen for the removal of the full notebook cells\n",
       "var notebookContainer = gd.closest('#notebook-container');\n",
       "if (notebookContainer) {{\n",
       "    x.observe(notebookContainer, {childList: true});\n",
       "}}\n",
       "\n",
       "// Listen for the clearing of the current output cell\n",
       "var outputEl = gd.closest('.output');\n",
       "if (outputEl) {{\n",
       "    x.observe(outputEl, {childList: true});\n",
       "}}\n",
       "\n",
       "                        })                };                });            </script>        </div>"
      ]
     },
     "metadata": {},
     "output_type": "display_data"
    }
   ],
   "source": [
    "fig = go.Figure()\n",
    "\n",
    "angles = list(values_df.columns[4:])\n",
    "angles.append(angles[0])\n",
    "\n",
    "layoutdict = dict(\n",
    "            radialaxis=dict(\n",
    "            visible=True,\n",
    "            range=[0, 1]\n",
    "            ))\n",
    "\n",
    "for i in range(n_clusters):\n",
    "    subset = values_df[values_df['cluster'] == i]\n",
    "    data = [np.mean(subset[col]) for col in subset.columns[4:]]\n",
    "    data.append(data[0])\n",
    "    fig.add_trace(go.Scatterpolar(\n",
    "        r=data,\n",
    "        theta=angles,\n",
    "        fill='toself',\n",
    "        name=\"Cluster \" + str(i)))\n",
    "    \n",
    "fig.update_layout(\n",
    "        polar=layoutdict,\n",
    "        showlegend=True\n",
    "        )\n",
    "fig.show()"
   ]
  },
  {
   "cell_type": "code",
   "execution_count": 1610,
   "id": "7b0e88cb",
   "metadata": {},
   "outputs": [
    {
     "data": {
      "text/html": [
       "<div>\n",
       "<style scoped>\n",
       "    .dataframe tbody tr th:only-of-type {\n",
       "        vertical-align: middle;\n",
       "    }\n",
       "\n",
       "    .dataframe tbody tr th {\n",
       "        vertical-align: top;\n",
       "    }\n",
       "\n",
       "    .dataframe thead th {\n",
       "        text-align: right;\n",
       "    }\n",
       "</style>\n",
       "<table border=\"1\" class=\"dataframe\">\n",
       "  <thead>\n",
       "    <tr style=\"text-align: right;\">\n",
       "      <th></th>\n",
       "      <th>name</th>\n",
       "      <th>artist</th>\n",
       "      <th>track_URI</th>\n",
       "      <th>acousticness</th>\n",
       "      <th>danceability</th>\n",
       "      <th>energy</th>\n",
       "      <th>instrumentalness</th>\n",
       "      <th>liveness</th>\n",
       "      <th>loudness</th>\n",
       "      <th>speechiness</th>\n",
       "      <th>tempo</th>\n",
       "      <th>valence</th>\n",
       "      <th>playlist</th>\n",
       "      <th>Cluster</th>\n",
       "    </tr>\n",
       "  </thead>\n",
       "  <tbody>\n",
       "    <tr>\n",
       "      <th>1</th>\n",
       "      <td>TOOTIMETOOTIMETOOTIME</td>\n",
       "      <td>The 1975</td>\n",
       "      <td>spotify:track:33DzKnwuBE6lfOiADwzd5E</td>\n",
       "      <td>0.177</td>\n",
       "      <td>0.667</td>\n",
       "      <td>0.824</td>\n",
       "      <td>0.015200</td>\n",
       "      <td>0.0933</td>\n",
       "      <td>-5.867</td>\n",
       "      <td>0.0665</td>\n",
       "      <td>114.998</td>\n",
       "      <td>0.518</td>\n",
       "      <td>New Playlist</td>\n",
       "      <td>3</td>\n",
       "    </tr>\n",
       "    <tr>\n",
       "      <th>4</th>\n",
       "      <td>The Wanderer</td>\n",
       "      <td>Dion</td>\n",
       "      <td>spotify:track:3v8d3ku3kiTZVPxEt7a2dE</td>\n",
       "      <td>0.301</td>\n",
       "      <td>0.590</td>\n",
       "      <td>0.546</td>\n",
       "      <td>0.000000</td>\n",
       "      <td>0.0936</td>\n",
       "      <td>-10.213</td>\n",
       "      <td>0.0436</td>\n",
       "      <td>114.040</td>\n",
       "      <td>0.855</td>\n",
       "      <td>New Playlist</td>\n",
       "      <td>3</td>\n",
       "    </tr>\n",
       "    <tr>\n",
       "      <th>19</th>\n",
       "      <td>The Tracks Of My Tears - The Voice Performance</td>\n",
       "      <td>Chris Blue</td>\n",
       "      <td>spotify:track:70MbRTSwvwfdgCUPHcliBx</td>\n",
       "      <td>0.300</td>\n",
       "      <td>0.554</td>\n",
       "      <td>0.505</td>\n",
       "      <td>0.000000</td>\n",
       "      <td>0.0774</td>\n",
       "      <td>-6.293</td>\n",
       "      <td>0.0287</td>\n",
       "      <td>93.035</td>\n",
       "      <td>0.413</td>\n",
       "      <td>New Playlist</td>\n",
       "      <td>3</td>\n",
       "    </tr>\n",
       "    <tr>\n",
       "      <th>29</th>\n",
       "      <td>I Just Called To Say I Love You</td>\n",
       "      <td>Stevie Wonder</td>\n",
       "      <td>spotify:track:6RNDeRnWsRMjPdNVgupZCs</td>\n",
       "      <td>0.243</td>\n",
       "      <td>0.748</td>\n",
       "      <td>0.551</td>\n",
       "      <td>0.000002</td>\n",
       "      <td>0.0943</td>\n",
       "      <td>-9.054</td>\n",
       "      <td>0.0239</td>\n",
       "      <td>113.535</td>\n",
       "      <td>0.650</td>\n",
       "      <td>New Playlist</td>\n",
       "      <td>3</td>\n",
       "    </tr>\n",
       "  </tbody>\n",
       "</table>\n",
       "</div>"
      ],
      "text/plain": [
       "                                              name         artist  \\\n",
       "1                            TOOTIMETOOTIMETOOTIME       The 1975   \n",
       "4                                     The Wanderer           Dion   \n",
       "19  The Tracks Of My Tears - The Voice Performance     Chris Blue   \n",
       "29                 I Just Called To Say I Love You  Stevie Wonder   \n",
       "\n",
       "                               track_URI  acousticness  danceability  energy  \\\n",
       "1   spotify:track:33DzKnwuBE6lfOiADwzd5E         0.177         0.667   0.824   \n",
       "4   spotify:track:3v8d3ku3kiTZVPxEt7a2dE         0.301         0.590   0.546   \n",
       "19  spotify:track:70MbRTSwvwfdgCUPHcliBx         0.300         0.554   0.505   \n",
       "29  spotify:track:6RNDeRnWsRMjPdNVgupZCs         0.243         0.748   0.551   \n",
       "\n",
       "    instrumentalness  liveness  loudness  speechiness    tempo  valence  \\\n",
       "1           0.015200    0.0933    -5.867       0.0665  114.998    0.518   \n",
       "4           0.000000    0.0936   -10.213       0.0436  114.040    0.855   \n",
       "19          0.000000    0.0774    -6.293       0.0287   93.035    0.413   \n",
       "29          0.000002    0.0943    -9.054       0.0239  113.535    0.650   \n",
       "\n",
       "        playlist  Cluster  \n",
       "1   New Playlist        3  \n",
       "4   New Playlist        3  \n",
       "19  New Playlist        3  \n",
       "29  New Playlist        3  "
      ]
     },
     "execution_count": 1610,
     "metadata": {},
     "output_type": "execute_result"
    }
   ],
   "source": [
    "df[df['Cluster']==3].iloc[:4]"
   ]
  },
  {
   "cell_type": "code",
   "execution_count": 643,
   "id": "3a2136f7",
   "metadata": {},
   "outputs": [],
   "source": [
    "#Make the new playlist with the new songs that were recommended\n",
    "#Making a new playlist with songs classified in the cluster \n",
    "for i in range(1):\n",
    "    result = sp.user_playlist_create(username, 'Recommended Song based on Cluster 1:Attempt2' , public=True, collaborative=False, description='')\n",
    "    playlist_id = result['id']\n",
    "    songs = song['uri'].tolist()\n",
    "    if len(songs) > 100:\n",
    "        sp.playlist_add_items(playlist_id, songs[:100])\n",
    "        sp.playlist_add_items(playlist_id, songs[100:])\n",
    "    else:\n",
    "        sp.playlist_add_items(playlist_id, songs)"
   ]
  }
 ],
 "metadata": {
  "kernelspec": {
   "display_name": "Python 3",
   "language": "python",
   "name": "python3"
  },
  "language_info": {
   "codemirror_mode": {
    "name": "ipython",
    "version": 3
   },
   "file_extension": ".py",
   "mimetype": "text/x-python",
   "name": "python",
   "nbconvert_exporter": "python",
   "pygments_lexer": "ipython3",
   "version": "3.7.10"
  }
 },
 "nbformat": 4,
 "nbformat_minor": 5
}
